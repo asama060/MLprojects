{
  "cells": [
    {
      "cell_type": "markdown",
      "metadata": {
        "id": "rEovHtUoTG6K"
      },
      "source": [
        "# CS108/212 STAT108/212 W25 Course Project\n",
        "\n",
        "### Team Details\n",
        "\n",
        "- Teammate 1: Ruturaj Kanake\n",
        "- Teammate 2: Shreyangshu Bera\n",
        "- Teammate 3: Akshaya Samant\n",
        "- Teammate 4: Muntaka Ibnath\n",
        "\n",
        "---\n",
        "\n",
        "\n",
        "# Milestone: Establishing Baselines\n",
        "For this project milestone, each teammate will train a baseline model to assess pre-bias mitigation performance."
      ]
    },
    {
      "cell_type": "markdown",
      "metadata": {
        "id": "H61P2lQlNz1Q"
      },
      "source": [
        "# Installs"
      ]
    },
    {
      "cell_type": "code",
      "execution_count": 1,
      "metadata": {
        "id": "CRQN7QJF5JUH"
      },
      "outputs": [],
      "source": [
        "import matplotlib.pyplot as plt\n",
        "import seaborn as sns\n",
        "import numpy as np\n",
        "import pandas as pd\n",
        "import collections\n",
        "from sklearn.model_selection import train_test_split\n",
        "\n",
        "from sklearn.preprocessing import LabelEncoder, StandardScaler\n",
        "from sklearn.impute import SimpleImputer\n",
        "\n",
        "from sklearn.metrics import accuracy_score, f1_score, precision_score, recall_score\n",
        "import numpy as np\n",
        "\n",
        "from sklearn.ensemble import RandomForestClassifier\n",
        "from sklearn.neighbors import KNeighborsClassifier\n",
        "from sklearn.linear_model import LogisticRegression\n",
        "from sklearn.svm import SVC\n",
        "from sklearn.tree import DecisionTreeClassifier"
      ]
    },
    {
      "cell_type": "markdown",
      "metadata": {
        "id": "2tXKU9aa5HPd"
      },
      "source": [
        "# Imports"
      ]
    },
    {
      "cell_type": "code",
      "execution_count": 2,
      "metadata": {
        "colab": {
          "base_uri": "https://localhost:8080/"
        },
        "id": "3PU2FJIQwFo2",
        "outputId": "3880c9c1-3ea5-48e7-a205-ed2457a1fcbe"
      },
      "outputs": [
        {
          "output_type": "stream",
          "name": "stdout",
          "text": [
            "Downloading from https://www.kaggle.com/api/v1/datasets/download/pavansubhasht/ibm-hr-analytics-attrition-dataset?dataset_version_number=1...\n"
          ]
        },
        {
          "output_type": "stream",
          "name": "stderr",
          "text": [
            "100%|██████████| 50.1k/50.1k [00:00<00:00, 9.74MB/s]"
          ]
        },
        {
          "output_type": "stream",
          "name": "stdout",
          "text": [
            "Extracting files...\n",
            "Data source import complete.\n"
          ]
        },
        {
          "output_type": "stream",
          "name": "stderr",
          "text": [
            "\n"
          ]
        }
      ],
      "source": [
        "import kagglehub\n",
        "pavansubhasht_ibm_hr_analytics_attrition_dataset_path = kagglehub.dataset_download('pavansubhasht/ibm-hr-analytics-attrition-dataset')\n",
        "\n",
        "print('Data source import complete.')"
      ]
    },
    {
      "cell_type": "code",
      "execution_count": 3,
      "metadata": {
        "id": "_0K4EQ1NwKz5",
        "colab": {
          "base_uri": "https://localhost:8080/",
          "height": 325
        },
        "outputId": "73aa6832-65dd-497f-f3bb-a4338f82dc6e"
      },
      "outputs": [
        {
          "output_type": "execute_result",
          "data": {
            "text/plain": [
              "   Age Attrition     BusinessTravel  DailyRate              Department  \\\n",
              "0   41       Yes      Travel_Rarely       1102                   Sales   \n",
              "1   49        No  Travel_Frequently        279  Research & Development   \n",
              "2   37       Yes      Travel_Rarely       1373  Research & Development   \n",
              "3   33        No  Travel_Frequently       1392  Research & Development   \n",
              "4   27        No      Travel_Rarely        591  Research & Development   \n",
              "\n",
              "   DistanceFromHome  Education EducationField  EmployeeCount  EmployeeNumber  \\\n",
              "0                 1          2  Life Sciences              1               1   \n",
              "1                 8          1  Life Sciences              1               2   \n",
              "2                 2          2          Other              1               4   \n",
              "3                 3          4  Life Sciences              1               5   \n",
              "4                 2          1        Medical              1               7   \n",
              "\n",
              "   ...  RelationshipSatisfaction StandardHours  StockOptionLevel  \\\n",
              "0  ...                         1            80                 0   \n",
              "1  ...                         4            80                 1   \n",
              "2  ...                         2            80                 0   \n",
              "3  ...                         3            80                 0   \n",
              "4  ...                         4            80                 1   \n",
              "\n",
              "   TotalWorkingYears  TrainingTimesLastYear WorkLifeBalance  YearsAtCompany  \\\n",
              "0                  8                      0               1               6   \n",
              "1                 10                      3               3              10   \n",
              "2                  7                      3               3               0   \n",
              "3                  8                      3               3               8   \n",
              "4                  6                      3               3               2   \n",
              "\n",
              "  YearsInCurrentRole  YearsSinceLastPromotion  YearsWithCurrManager  \n",
              "0                  4                        0                     5  \n",
              "1                  7                        1                     7  \n",
              "2                  0                        0                     0  \n",
              "3                  7                        3                     0  \n",
              "4                  2                        2                     2  \n",
              "\n",
              "[5 rows x 35 columns]"
            ],
            "text/html": [
              "\n",
              "  <div id=\"df-dbe32199-417f-40a4-bd0e-aa5374f4349d\" class=\"colab-df-container\">\n",
              "    <div>\n",
              "<style scoped>\n",
              "    .dataframe tbody tr th:only-of-type {\n",
              "        vertical-align: middle;\n",
              "    }\n",
              "\n",
              "    .dataframe tbody tr th {\n",
              "        vertical-align: top;\n",
              "    }\n",
              "\n",
              "    .dataframe thead th {\n",
              "        text-align: right;\n",
              "    }\n",
              "</style>\n",
              "<table border=\"1\" class=\"dataframe\">\n",
              "  <thead>\n",
              "    <tr style=\"text-align: right;\">\n",
              "      <th></th>\n",
              "      <th>Age</th>\n",
              "      <th>Attrition</th>\n",
              "      <th>BusinessTravel</th>\n",
              "      <th>DailyRate</th>\n",
              "      <th>Department</th>\n",
              "      <th>DistanceFromHome</th>\n",
              "      <th>Education</th>\n",
              "      <th>EducationField</th>\n",
              "      <th>EmployeeCount</th>\n",
              "      <th>EmployeeNumber</th>\n",
              "      <th>...</th>\n",
              "      <th>RelationshipSatisfaction</th>\n",
              "      <th>StandardHours</th>\n",
              "      <th>StockOptionLevel</th>\n",
              "      <th>TotalWorkingYears</th>\n",
              "      <th>TrainingTimesLastYear</th>\n",
              "      <th>WorkLifeBalance</th>\n",
              "      <th>YearsAtCompany</th>\n",
              "      <th>YearsInCurrentRole</th>\n",
              "      <th>YearsSinceLastPromotion</th>\n",
              "      <th>YearsWithCurrManager</th>\n",
              "    </tr>\n",
              "  </thead>\n",
              "  <tbody>\n",
              "    <tr>\n",
              "      <th>0</th>\n",
              "      <td>41</td>\n",
              "      <td>Yes</td>\n",
              "      <td>Travel_Rarely</td>\n",
              "      <td>1102</td>\n",
              "      <td>Sales</td>\n",
              "      <td>1</td>\n",
              "      <td>2</td>\n",
              "      <td>Life Sciences</td>\n",
              "      <td>1</td>\n",
              "      <td>1</td>\n",
              "      <td>...</td>\n",
              "      <td>1</td>\n",
              "      <td>80</td>\n",
              "      <td>0</td>\n",
              "      <td>8</td>\n",
              "      <td>0</td>\n",
              "      <td>1</td>\n",
              "      <td>6</td>\n",
              "      <td>4</td>\n",
              "      <td>0</td>\n",
              "      <td>5</td>\n",
              "    </tr>\n",
              "    <tr>\n",
              "      <th>1</th>\n",
              "      <td>49</td>\n",
              "      <td>No</td>\n",
              "      <td>Travel_Frequently</td>\n",
              "      <td>279</td>\n",
              "      <td>Research &amp; Development</td>\n",
              "      <td>8</td>\n",
              "      <td>1</td>\n",
              "      <td>Life Sciences</td>\n",
              "      <td>1</td>\n",
              "      <td>2</td>\n",
              "      <td>...</td>\n",
              "      <td>4</td>\n",
              "      <td>80</td>\n",
              "      <td>1</td>\n",
              "      <td>10</td>\n",
              "      <td>3</td>\n",
              "      <td>3</td>\n",
              "      <td>10</td>\n",
              "      <td>7</td>\n",
              "      <td>1</td>\n",
              "      <td>7</td>\n",
              "    </tr>\n",
              "    <tr>\n",
              "      <th>2</th>\n",
              "      <td>37</td>\n",
              "      <td>Yes</td>\n",
              "      <td>Travel_Rarely</td>\n",
              "      <td>1373</td>\n",
              "      <td>Research &amp; Development</td>\n",
              "      <td>2</td>\n",
              "      <td>2</td>\n",
              "      <td>Other</td>\n",
              "      <td>1</td>\n",
              "      <td>4</td>\n",
              "      <td>...</td>\n",
              "      <td>2</td>\n",
              "      <td>80</td>\n",
              "      <td>0</td>\n",
              "      <td>7</td>\n",
              "      <td>3</td>\n",
              "      <td>3</td>\n",
              "      <td>0</td>\n",
              "      <td>0</td>\n",
              "      <td>0</td>\n",
              "      <td>0</td>\n",
              "    </tr>\n",
              "    <tr>\n",
              "      <th>3</th>\n",
              "      <td>33</td>\n",
              "      <td>No</td>\n",
              "      <td>Travel_Frequently</td>\n",
              "      <td>1392</td>\n",
              "      <td>Research &amp; Development</td>\n",
              "      <td>3</td>\n",
              "      <td>4</td>\n",
              "      <td>Life Sciences</td>\n",
              "      <td>1</td>\n",
              "      <td>5</td>\n",
              "      <td>...</td>\n",
              "      <td>3</td>\n",
              "      <td>80</td>\n",
              "      <td>0</td>\n",
              "      <td>8</td>\n",
              "      <td>3</td>\n",
              "      <td>3</td>\n",
              "      <td>8</td>\n",
              "      <td>7</td>\n",
              "      <td>3</td>\n",
              "      <td>0</td>\n",
              "    </tr>\n",
              "    <tr>\n",
              "      <th>4</th>\n",
              "      <td>27</td>\n",
              "      <td>No</td>\n",
              "      <td>Travel_Rarely</td>\n",
              "      <td>591</td>\n",
              "      <td>Research &amp; Development</td>\n",
              "      <td>2</td>\n",
              "      <td>1</td>\n",
              "      <td>Medical</td>\n",
              "      <td>1</td>\n",
              "      <td>7</td>\n",
              "      <td>...</td>\n",
              "      <td>4</td>\n",
              "      <td>80</td>\n",
              "      <td>1</td>\n",
              "      <td>6</td>\n",
              "      <td>3</td>\n",
              "      <td>3</td>\n",
              "      <td>2</td>\n",
              "      <td>2</td>\n",
              "      <td>2</td>\n",
              "      <td>2</td>\n",
              "    </tr>\n",
              "  </tbody>\n",
              "</table>\n",
              "<p>5 rows × 35 columns</p>\n",
              "</div>\n",
              "    <div class=\"colab-df-buttons\">\n",
              "\n",
              "  <div class=\"colab-df-container\">\n",
              "    <button class=\"colab-df-convert\" onclick=\"convertToInteractive('df-dbe32199-417f-40a4-bd0e-aa5374f4349d')\"\n",
              "            title=\"Convert this dataframe to an interactive table.\"\n",
              "            style=\"display:none;\">\n",
              "\n",
              "  <svg xmlns=\"http://www.w3.org/2000/svg\" height=\"24px\" viewBox=\"0 -960 960 960\">\n",
              "    <path d=\"M120-120v-720h720v720H120Zm60-500h600v-160H180v160Zm220 220h160v-160H400v160Zm0 220h160v-160H400v160ZM180-400h160v-160H180v160Zm440 0h160v-160H620v160ZM180-180h160v-160H180v160Zm440 0h160v-160H620v160Z\"/>\n",
              "  </svg>\n",
              "    </button>\n",
              "\n",
              "  <style>\n",
              "    .colab-df-container {\n",
              "      display:flex;\n",
              "      gap: 12px;\n",
              "    }\n",
              "\n",
              "    .colab-df-convert {\n",
              "      background-color: #E8F0FE;\n",
              "      border: none;\n",
              "      border-radius: 50%;\n",
              "      cursor: pointer;\n",
              "      display: none;\n",
              "      fill: #1967D2;\n",
              "      height: 32px;\n",
              "      padding: 0 0 0 0;\n",
              "      width: 32px;\n",
              "    }\n",
              "\n",
              "    .colab-df-convert:hover {\n",
              "      background-color: #E2EBFA;\n",
              "      box-shadow: 0px 1px 2px rgba(60, 64, 67, 0.3), 0px 1px 3px 1px rgba(60, 64, 67, 0.15);\n",
              "      fill: #174EA6;\n",
              "    }\n",
              "\n",
              "    .colab-df-buttons div {\n",
              "      margin-bottom: 4px;\n",
              "    }\n",
              "\n",
              "    [theme=dark] .colab-df-convert {\n",
              "      background-color: #3B4455;\n",
              "      fill: #D2E3FC;\n",
              "    }\n",
              "\n",
              "    [theme=dark] .colab-df-convert:hover {\n",
              "      background-color: #434B5C;\n",
              "      box-shadow: 0px 1px 3px 1px rgba(0, 0, 0, 0.15);\n",
              "      filter: drop-shadow(0px 1px 2px rgba(0, 0, 0, 0.3));\n",
              "      fill: #FFFFFF;\n",
              "    }\n",
              "  </style>\n",
              "\n",
              "    <script>\n",
              "      const buttonEl =\n",
              "        document.querySelector('#df-dbe32199-417f-40a4-bd0e-aa5374f4349d button.colab-df-convert');\n",
              "      buttonEl.style.display =\n",
              "        google.colab.kernel.accessAllowed ? 'block' : 'none';\n",
              "\n",
              "      async function convertToInteractive(key) {\n",
              "        const element = document.querySelector('#df-dbe32199-417f-40a4-bd0e-aa5374f4349d');\n",
              "        const dataTable =\n",
              "          await google.colab.kernel.invokeFunction('convertToInteractive',\n",
              "                                                    [key], {});\n",
              "        if (!dataTable) return;\n",
              "\n",
              "        const docLinkHtml = 'Like what you see? Visit the ' +\n",
              "          '<a target=\"_blank\" href=https://colab.research.google.com/notebooks/data_table.ipynb>data table notebook</a>'\n",
              "          + ' to learn more about interactive tables.';\n",
              "        element.innerHTML = '';\n",
              "        dataTable['output_type'] = 'display_data';\n",
              "        await google.colab.output.renderOutput(dataTable, element);\n",
              "        const docLink = document.createElement('div');\n",
              "        docLink.innerHTML = docLinkHtml;\n",
              "        element.appendChild(docLink);\n",
              "      }\n",
              "    </script>\n",
              "  </div>\n",
              "\n",
              "\n",
              "<div id=\"df-913b0e37-7933-433e-b274-5e2b06327de8\">\n",
              "  <button class=\"colab-df-quickchart\" onclick=\"quickchart('df-913b0e37-7933-433e-b274-5e2b06327de8')\"\n",
              "            title=\"Suggest charts\"\n",
              "            style=\"display:none;\">\n",
              "\n",
              "<svg xmlns=\"http://www.w3.org/2000/svg\" height=\"24px\"viewBox=\"0 0 24 24\"\n",
              "     width=\"24px\">\n",
              "    <g>\n",
              "        <path d=\"M19 3H5c-1.1 0-2 .9-2 2v14c0 1.1.9 2 2 2h14c1.1 0 2-.9 2-2V5c0-1.1-.9-2-2-2zM9 17H7v-7h2v7zm4 0h-2V7h2v10zm4 0h-2v-4h2v4z\"/>\n",
              "    </g>\n",
              "</svg>\n",
              "  </button>\n",
              "\n",
              "<style>\n",
              "  .colab-df-quickchart {\n",
              "      --bg-color: #E8F0FE;\n",
              "      --fill-color: #1967D2;\n",
              "      --hover-bg-color: #E2EBFA;\n",
              "      --hover-fill-color: #174EA6;\n",
              "      --disabled-fill-color: #AAA;\n",
              "      --disabled-bg-color: #DDD;\n",
              "  }\n",
              "\n",
              "  [theme=dark] .colab-df-quickchart {\n",
              "      --bg-color: #3B4455;\n",
              "      --fill-color: #D2E3FC;\n",
              "      --hover-bg-color: #434B5C;\n",
              "      --hover-fill-color: #FFFFFF;\n",
              "      --disabled-bg-color: #3B4455;\n",
              "      --disabled-fill-color: #666;\n",
              "  }\n",
              "\n",
              "  .colab-df-quickchart {\n",
              "    background-color: var(--bg-color);\n",
              "    border: none;\n",
              "    border-radius: 50%;\n",
              "    cursor: pointer;\n",
              "    display: none;\n",
              "    fill: var(--fill-color);\n",
              "    height: 32px;\n",
              "    padding: 0;\n",
              "    width: 32px;\n",
              "  }\n",
              "\n",
              "  .colab-df-quickchart:hover {\n",
              "    background-color: var(--hover-bg-color);\n",
              "    box-shadow: 0 1px 2px rgba(60, 64, 67, 0.3), 0 1px 3px 1px rgba(60, 64, 67, 0.15);\n",
              "    fill: var(--button-hover-fill-color);\n",
              "  }\n",
              "\n",
              "  .colab-df-quickchart-complete:disabled,\n",
              "  .colab-df-quickchart-complete:disabled:hover {\n",
              "    background-color: var(--disabled-bg-color);\n",
              "    fill: var(--disabled-fill-color);\n",
              "    box-shadow: none;\n",
              "  }\n",
              "\n",
              "  .colab-df-spinner {\n",
              "    border: 2px solid var(--fill-color);\n",
              "    border-color: transparent;\n",
              "    border-bottom-color: var(--fill-color);\n",
              "    animation:\n",
              "      spin 1s steps(1) infinite;\n",
              "  }\n",
              "\n",
              "  @keyframes spin {\n",
              "    0% {\n",
              "      border-color: transparent;\n",
              "      border-bottom-color: var(--fill-color);\n",
              "      border-left-color: var(--fill-color);\n",
              "    }\n",
              "    20% {\n",
              "      border-color: transparent;\n",
              "      border-left-color: var(--fill-color);\n",
              "      border-top-color: var(--fill-color);\n",
              "    }\n",
              "    30% {\n",
              "      border-color: transparent;\n",
              "      border-left-color: var(--fill-color);\n",
              "      border-top-color: var(--fill-color);\n",
              "      border-right-color: var(--fill-color);\n",
              "    }\n",
              "    40% {\n",
              "      border-color: transparent;\n",
              "      border-right-color: var(--fill-color);\n",
              "      border-top-color: var(--fill-color);\n",
              "    }\n",
              "    60% {\n",
              "      border-color: transparent;\n",
              "      border-right-color: var(--fill-color);\n",
              "    }\n",
              "    80% {\n",
              "      border-color: transparent;\n",
              "      border-right-color: var(--fill-color);\n",
              "      border-bottom-color: var(--fill-color);\n",
              "    }\n",
              "    90% {\n",
              "      border-color: transparent;\n",
              "      border-bottom-color: var(--fill-color);\n",
              "    }\n",
              "  }\n",
              "</style>\n",
              "\n",
              "  <script>\n",
              "    async function quickchart(key) {\n",
              "      const quickchartButtonEl =\n",
              "        document.querySelector('#' + key + ' button');\n",
              "      quickchartButtonEl.disabled = true;  // To prevent multiple clicks.\n",
              "      quickchartButtonEl.classList.add('colab-df-spinner');\n",
              "      try {\n",
              "        const charts = await google.colab.kernel.invokeFunction(\n",
              "            'suggestCharts', [key], {});\n",
              "      } catch (error) {\n",
              "        console.error('Error during call to suggestCharts:', error);\n",
              "      }\n",
              "      quickchartButtonEl.classList.remove('colab-df-spinner');\n",
              "      quickchartButtonEl.classList.add('colab-df-quickchart-complete');\n",
              "    }\n",
              "    (() => {\n",
              "      let quickchartButtonEl =\n",
              "        document.querySelector('#df-913b0e37-7933-433e-b274-5e2b06327de8 button');\n",
              "      quickchartButtonEl.style.display =\n",
              "        google.colab.kernel.accessAllowed ? 'block' : 'none';\n",
              "    })();\n",
              "  </script>\n",
              "</div>\n",
              "\n",
              "    </div>\n",
              "  </div>\n"
            ],
            "application/vnd.google.colaboratory.intrinsic+json": {
              "type": "dataframe",
              "variable_name": "hr_data"
            }
          },
          "metadata": {},
          "execution_count": 3
        }
      ],
      "source": [
        "hr_data = pd.read_csv(\"/root/.cache/kagglehub/datasets/pavansubhasht/ibm-hr-analytics-attrition-dataset/versions/1/WA_Fn-UseC_-HR-Employee-Attrition.csv\")\n",
        "hr_data.head()"
      ]
    },
    {
      "cell_type": "markdown",
      "metadata": {
        "id": "7V3zrVf11GUF"
      },
      "source": [
        "# Loading dataset"
      ]
    },
    {
      "cell_type": "code",
      "execution_count": 4,
      "metadata": {
        "colab": {
          "base_uri": "https://localhost:8080/"
        },
        "id": "Uimn7Sde1Jp2",
        "outputId": "e1f63b38-a203-46d5-dc1d-0c977ae083ed"
      },
      "outputs": [
        {
          "output_type": "stream",
          "name": "stdout",
          "text": [
            "No. of samples: 1470\n",
            "No. of features: 34\n"
          ]
        }
      ],
      "source": [
        "# Load your selected dataset\n",
        "\n",
        "y = hr_data['Attrition']\n",
        "X = hr_data.drop(columns=['Attrition'])\n",
        "\n",
        "# Print some stats\n",
        "print(f\"No. of samples: {X.shape[0]}\")\n",
        "print(f\"No. of features: {X.shape[1]}\")"
      ]
    },
    {
      "cell_type": "markdown",
      "metadata": {
        "id": "zq2dMuD87D0f"
      },
      "source": [
        "# Preparing dataset"
      ]
    },
    {
      "cell_type": "code",
      "execution_count": 5,
      "metadata": {
        "colab": {
          "base_uri": "https://localhost:8080/"
        },
        "id": "q5OFc1WMybZx",
        "outputId": "a4271671-b4ba-4bb2-c023-84760216a3cf"
      },
      "outputs": [
        {
          "output_type": "stream",
          "name": "stdout",
          "text": [
            "No. of samples BEFORE cleaning: 1470\n",
            "No. of features BEFORE encoding: 34\n"
          ]
        }
      ],
      "source": [
        "print(f\"No. of samples BEFORE cleaning: {X.shape[0]}\")\n",
        "print(f\"No. of features BEFORE encoding: {X.shape[1]}\")"
      ]
    },
    {
      "cell_type": "code",
      "execution_count": 6,
      "metadata": {
        "id": "Mq3wYB1H7CXM"
      },
      "outputs": [],
      "source": [
        "# Some subset of following dataset preparation steps may be necessary depending on your dataset,\n",
        "# 1. Drop unnecessary features\n",
        "# 2. Handle missing data\n",
        "# 3. Encode categorical features\n",
        "# 4. Normalize numerical features\n",
        "# 5. Encode target (if your task is classification)\n",
        "\n",
        "# 1. Drop unnecessary features\n",
        "# Removing features that are not useful for prediction\n",
        "X = X.drop(columns=[\"EmployeeCount\", \"EmployeeNumber\", \"Over18\", \"StandardHours\"])"
      ]
    },
    {
      "cell_type": "code",
      "source": [
        "# 2. Handle missing data\n",
        "# Using mean imputation for numerical columns and most frequent for categorical columns\n",
        "num_imputer = SimpleImputer(strategy=\"mean\")\n",
        "cat_imputer = SimpleImputer(strategy=\"most_frequent\")\n",
        "\n",
        "num_cols = X.select_dtypes(include=[\"int64\", \"float64\"]).columns\n",
        "cat_cols = X.select_dtypes(include=[\"object\"]).columns\n",
        "\n",
        "X[num_cols] = num_imputer.fit_transform(X[num_cols])\n",
        "X[cat_cols] = cat_imputer.fit_transform(X[cat_cols])"
      ],
      "metadata": {
        "id": "PBvVy5VoKpa2"
      },
      "execution_count": 7,
      "outputs": []
    },
    {
      "cell_type": "code",
      "source": [
        "# 3. Encode categorical features\n",
        "label_encoders = {}\n",
        "for col in cat_cols:\n",
        "    le = LabelEncoder()\n",
        "    X[col] = le.fit_transform(X[col])\n",
        "    label_encoders[col] = le"
      ],
      "metadata": {
        "id": "U-L7T_YwKs1i"
      },
      "execution_count": 8,
      "outputs": []
    },
    {
      "cell_type": "code",
      "source": [
        "# 4. Normalize numerical features\n",
        "scaler = StandardScaler()\n",
        "X[num_cols] = scaler.fit_transform(X[num_cols])"
      ],
      "metadata": {
        "id": "nyg0MGYoKugJ"
      },
      "execution_count": 9,
      "outputs": []
    },
    {
      "cell_type": "code",
      "source": [
        "# 5. Encode target variable\n",
        "y = LabelEncoder().fit_transform(y)\n",
        "\n",
        "# Note: X and y have been modified before the following lines of code!\n",
        "print(f\"No. of samples AFTER cleaning: {X.shape[0]}\")\n",
        "print(f\"No. of features AFTER encoding: {X.shape[1]}\")"
      ],
      "metadata": {
        "colab": {
          "base_uri": "https://localhost:8080/"
        },
        "id": "xxaMDmKSKv54",
        "outputId": "b3193a88-c907-44db-da53-0054248cdf24"
      },
      "execution_count": 10,
      "outputs": [
        {
          "output_type": "stream",
          "name": "stdout",
          "text": [
            "No. of samples AFTER cleaning: 1470\n",
            "No. of features AFTER encoding: 30\n"
          ]
        }
      ]
    },
    {
      "cell_type": "code",
      "source": [
        "# Sample model training to check the demographic parity difference.\n",
        "\n",
        "X_train_temp, X_test_temp, y_train_temp, y_test_temp = train_test_split(X, y, test_size=0.2, random_state=42, stratify=y)\n",
        "\n",
        "model_temp = LogisticRegression()\n",
        "model_temp.fit(X_train_temp, y_train_temp)\n",
        "y_pred_temp = model_temp.predict(X_test_temp)\n",
        "\n",
        "\n",
        "privileged_groups = {\n",
        "    'Gender': {'privileged': 1, 'unprivileged': 0},\n",
        "    'OverTime': {'privileged': 1, 'unprivileged': 0},\n",
        "    'MaritalStatus': {'privileged': 1, 'unprivileged': 0},\n",
        "}\n",
        "\n",
        "data = X_test_temp.copy()\n",
        "data['Attrition'] = y_pred_temp\n",
        "\n",
        "def calculate_demographic_parity_difference(data, group_column, privileged_value, unprivileged_value, target_column='Attrition'):\n",
        "    p_unprivileged = data[data[group_column] == unprivileged_value][target_column].mean()\n",
        "    p_privileged = data[data[group_column] == privileged_value][target_column].mean()\n",
        "\n",
        "    return p_privileged - p_unprivileged\n",
        "\n",
        "# Calculate Demographic Parity Difference for each attribute\n",
        "demographic_parity_differences = {}\n",
        "for attribute, groups in privileged_groups.items():\n",
        "    if attribute in data.columns:\n",
        "        difference = calculate_demographic_parity_difference(\n",
        "            data,\n",
        "            attribute,\n",
        "            groups['privileged'],\n",
        "            groups['unprivileged']\n",
        "        )\n",
        "        demographic_parity_differences[attribute] = difference\n",
        "\n",
        "for attribute, difference in demographic_parity_differences.items():\n",
        "    print(f\"Demographic Parity Difference for {attribute}: {difference:.3f}\")"
      ],
      "metadata": {
        "colab": {
          "base_uri": "https://localhost:8080/"
        },
        "id": "pGdc9yPYmSIe",
        "outputId": "cd68cda7-1abb-40fb-e2f3-fb336599959d"
      },
      "execution_count": 11,
      "outputs": [
        {
          "output_type": "stream",
          "name": "stdout",
          "text": [
            "Demographic Parity Difference for Gender: 0.012\n",
            "Demographic Parity Difference for OverTime: 0.222\n",
            "Demographic Parity Difference for MaritalStatus: 0.029\n"
          ]
        }
      ]
    },
    {
      "cell_type": "code",
      "source": [
        "sensitive_feature_colname = \"OverTime\" # sensitive feature name\n",
        "\n",
        "# Make sensitive features-based group labels\n",
        "group_labels = X[sensitive_feature_colname]\n",
        "\n",
        "print(f\"Group Counts: {dict(collections.Counter(group_labels))}\")\n",
        "\n",
        "# Ensure group labels are updated if necessary\n",
        "group_labels = X[sensitive_feature_colname]\n",
        "assert X.shape[0] == y.shape[0] == group_labels.shape[0]"
      ],
      "metadata": {
        "colab": {
          "base_uri": "https://localhost:8080/"
        },
        "id": "M0lDrP3bkSss",
        "outputId": "e75f112e-7683-4a6c-a466-d8d3ebbda848"
      },
      "execution_count": 12,
      "outputs": [
        {
          "output_type": "stream",
          "name": "stdout",
          "text": [
            "Group Counts: {1: 416, 0: 1054}\n"
          ]
        }
      ]
    },
    {
      "cell_type": "markdown",
      "metadata": {
        "id": "h1xfwjUT3nJ0"
      },
      "source": [
        "# Getting training and testing sets\n",
        "\n",
        "Note: Train-test split is made **ONCE** to obtain the _training set_ and the _testing set_ and every teammate will use the training set to train their baseline model and test the trained model using the testing set. **NEVER** modify the testing set once it has been created."
      ]
    },
    {
      "cell_type": "code",
      "execution_count": 13,
      "metadata": {
        "colab": {
          "base_uri": "https://localhost:8080/"
        },
        "id": "udqlgotu5a5m",
        "outputId": "83f13d8e-d179-425a-e94e-74baeaaa0372"
      },
      "outputs": [
        {
          "output_type": "stream",
          "name": "stdout",
          "text": [
            "No. of training samples: 1176\n",
            "No. of testing samples: 294\n"
          ]
        }
      ],
      "source": [
        "X_train, X_test, \\\n",
        "  y_train, y_test, \\\n",
        "    group_labels_train, group_labels_test = train_test_split(X, y, group_labels, test_size=0.2, random_state=42, stratify=y)\n",
        "\n",
        "print(f\"No. of training samples: {X_train.shape[0]}\")\n",
        "print(f\"No. of testing samples: {X_test.shape[0]}\")\n",
        "\n",
        "# Delete X, y and group_label variables to make sure they are not used later on.\n",
        "del X\n",
        "del y\n",
        "del group_labels"
      ]
    },
    {
      "cell_type": "markdown",
      "metadata": {
        "id": "stfLke4NBA-B"
      },
      "source": [
        "# Setting up evaluation metrics\n",
        "Note: The same evaluation function will be used by all teammates."
      ]
    },
    {
      "cell_type": "code",
      "execution_count": 14,
      "metadata": {
        "id": "RxX61lMDA50u"
      },
      "outputs": [],
      "source": [
        "def demographic_parity(y_pred, g_labels):\n",
        "    \"\"\"\n",
        "    Computes the demographic parity difference.\n",
        "    \"\"\"\n",
        "    unique_groups = np.unique(g_labels)\n",
        "    proportions = {group: np.mean(y_pred[g_labels == group]) for group in unique_groups}\n",
        "    return max(proportions.values()) - min(proportions.values())\n",
        "\n",
        "def equalized_odds(y_test, y_pred, g_labels):\n",
        "    \"\"\"\n",
        "    Computes the equalized odds difference.\n",
        "    \"\"\"\n",
        "    unique_groups = np.unique(g_labels)\n",
        "    tpr_diff = []\n",
        "    fpr_diff = []\n",
        "\n",
        "    for group in unique_groups:\n",
        "        mask = g_labels == group\n",
        "        tpr = np.sum((y_pred[mask] == 1) & (y_test[mask] == 1)) / np.sum(y_test[mask] == 1)\n",
        "        fpr = np.sum((y_pred[mask] == 1) & (y_test[mask] == 0)) / np.sum(y_test[mask] == 0)\n",
        "        tpr_diff.append(tpr)\n",
        "        fpr_diff.append(fpr)\n",
        "\n",
        "    return round(max(tpr_diff) - min(tpr_diff), 3), round(max(fpr_diff) - min(fpr_diff), 2)\n",
        "\n",
        "def evaluate_model(y_test, y_pred, g_labels):\n",
        "    \"\"\"\n",
        "    Evaluate the performance of the trained model on the testing set.\n",
        "\n",
        "    Parameters\n",
        "    ----------\n",
        "    y_test : array-like\n",
        "        The true labels of the testing set.\n",
        "    y_pred : array-like\n",
        "        The predicted labels of the testing set.\n",
        "    g_labels : array-like\n",
        "        The group labels of the testing set.\n",
        "\n",
        "    Returns\n",
        "    -------\n",
        "    results : dict\n",
        "        A dictionary containing performance and fairness evaluation results.\n",
        "    \"\"\"\n",
        "    results = {}\n",
        "\n",
        "    # Task-specific performance metrics (overall)\n",
        "    results[\"accuracy\"] = round(accuracy_score(y_test, y_pred), 2)\n",
        "    results[\"f1_score\"] = round(f1_score(y_test, y_pred), 2)\n",
        "    results[\"precision\"] = round(precision_score(y_test, y_pred), 2)\n",
        "    results[\"recall\"] = round(recall_score(y_test, y_pred), 2)\n",
        "\n",
        "    # Performance metrics per group\n",
        "    unique_groups = np.unique(g_labels)\n",
        "    results[\"group_metrics\"] = {\n",
        "        group: {\n",
        "            \"accuracy\": round(accuracy_score(y_test[g_labels == group], y_pred[g_labels == group]), 2),\n",
        "            \"f1_score\": round(f1_score(y_test[g_labels == group], y_pred[g_labels == group]), 2),\n",
        "            \"precision\": round(precision_score(y_test[g_labels == group], y_pred[g_labels == group]), 2),\n",
        "            \"recall\": round(recall_score(y_test[g_labels == group], y_pred[g_labels == group]), 2)\n",
        "        }\n",
        "        for group in unique_groups\n",
        "    }\n",
        "\n",
        "    # Fairness metrics\n",
        "    results[\"demographic_parity\"] = round(demographic_parity(y_pred, g_labels), 3)\n",
        "    results[\"equalized_odds\"] = equalized_odds(y_test, y_pred, g_labels)\n",
        "\n",
        "    return results"
      ]
    },
    {
      "cell_type": "markdown",
      "metadata": {
        "id": "My_giZbvpFEK"
      },
      "source": [
        "# Training baseline models"
      ]
    },
    {
      "cell_type": "code",
      "source": [
        "all_baseline_results = []"
      ],
      "metadata": {
        "id": "5dxjWY9B4Rbs"
      },
      "execution_count": 15,
      "outputs": []
    },
    {
      "cell_type": "markdown",
      "metadata": {
        "id": "400FpWHZ_z0S"
      },
      "source": [
        "## Teammate 1"
      ]
    },
    {
      "cell_type": "code",
      "execution_count": 16,
      "metadata": {
        "colab": {
          "base_uri": "https://localhost:8080/"
        },
        "id": "BjKUAk4I_4DQ",
        "outputId": "74f5dd91-9ca9-48c7-abb5-260e6ba0a490"
      },
      "outputs": [
        {
          "output_type": "stream",
          "name": "stdout",
          "text": [
            "accuracy : 0.8\n",
            "f1_score : 0.33\n",
            "precision : 0.36\n",
            "recall : 0.3\n",
            "group_metrics : {0: {'accuracy': 0.84, 'f1_score': 0.05, 'precision': 0.05, 'recall': 0.06}, 1: {'accuracy': 0.7, 'f1_score': 0.53, 'precision': 0.68, 'recall': 0.43}}\n",
            "demographic_parity : 0.158\n",
            "equalized_odds : (0.375, 0.04)\n"
          ]
        }
      ],
      "source": [
        "model = DecisionTreeClassifier(random_state=42, max_depth=10)\n",
        "model.fit(X_train, y_train)\n",
        "\n",
        "y_pred = model.predict(X_test)\n",
        "\n",
        "results = evaluate_model(y_test, y_pred, group_labels_test)\n",
        "for key, values in results.items():\n",
        "  print(key, \":\", values)\n",
        "results['teammate'] = 'Teammate 1'\n",
        "results['experiment_type'] = 'pre-mitigation'\n",
        "results['predictor_model'] = 'Decision Tree'\n",
        "results['mitigation_strategy'] = 'No Mitigation'\n",
        "all_baseline_results.append(results)"
      ]
    },
    {
      "cell_type": "markdown",
      "metadata": {
        "id": "gKcpX-kXJYU-"
      },
      "source": [
        "### Teammate 1's Conclusions\n",
        "\n",
        "1. The decision tree model achieves reasonable overall accuracy at 80%, but shows concerning disparities between groups with Group 0 having higher accuracy (84%) yet extremely poor F1 score (0.05), while Group 1 has lower accuracy (70%) but substantially better predictive performance with an F1 score of 0.53.\n",
        "\n",
        "2. The demographic parity value of 0.158 and unbalanced equalized odds values (0.375, 0.04) indicate serious fairness concerns as the model makes positive predictions at different rates between overtime and non-overtime groups and shows unequal error distributions.\n",
        "\n",
        "3. With overall low precision (0.36) and recall (0.3), the model struggles with prediction quality, particularly showing a stark contrast in Group 1 where higher precision (0.68) compared to recall (0.43) suggests the model is overly conservative when making positive predictions for the overtime group."
      ]
    },
    {
      "cell_type": "markdown",
      "metadata": {
        "id": "_VYWPshD_zlw"
      },
      "source": [
        "## Teammate 2"
      ]
    },
    {
      "cell_type": "code",
      "execution_count": 17,
      "metadata": {
        "colab": {
          "base_uri": "https://localhost:8080/"
        },
        "id": "dgDw0Ta7_7FT",
        "outputId": "a98cc55f-1c08-44f3-82f6-9b4fe7ec1d54"
      },
      "outputs": [
        {
          "output_type": "stream",
          "name": "stdout",
          "text": [
            "accuracy : 0.84\n",
            "f1_score : 0.2\n",
            "precision : 0.46\n",
            "recall : 0.13\n",
            "group_metrics : {0: {'accuracy': 0.9, 'f1_score': 0.08, 'precision': 0.14, 'recall': 0.06}, 1: {'accuracy': 0.66, 'f1_score': 0.28, 'precision': 0.83, 'recall': 0.17}}\n",
            "demographic_parity : 0.047\n",
            "equalized_odds : (0.108, 0.01)\n"
          ]
        }
      ],
      "source": [
        "model = RandomForestClassifier(max_depth=20, random_state=42)\n",
        "model.fit(X_train, y_train)\n",
        "\n",
        "y_pred = model.predict(X_test)\n",
        "\n",
        "results = evaluate_model(y_test, y_pred, group_labels_test)\n",
        "for key, values in results.items():\n",
        "  print(key, \":\", values)\n",
        "results['teammate'] = 'Teammate 2'\n",
        "results['experiment_type'] = 'pre-mitigation'\n",
        "results['predictor_model'] = 'Random Forest'\n",
        "results['mitigation_strategy'] = 'No Mitigation'\n",
        "all_baseline_results.append(results)"
      ]
    },
    {
      "cell_type": "markdown",
      "metadata": {
        "id": "_HAVd4Z3JmB7"
      },
      "source": [
        "### Teammate 2's Conclusions\n",
        "\n",
        "1. The Random Forest model demonstrates high overall accuracy of 84% but suffers from poor predictive performance with a low F1 score of 0.2, high precision of 0.46, and particularly low recall of 0.13 indicating it misses most positive cases.\n",
        "\n",
        "2. There exists a substantial performance gap between groups with Group 0 showing excellent accuracy (90%) but minimal predictive capability (F1: 0.08), while Group 1 shows lower accuracy (66%) with better but still insufficient predictive metrics (F1: 0.28), though its precision is remarkably high at 0.83.\n",
        "\n",
        "3. The fairness metrics show improvement compared to the Decision Tree with a lower demographic parity of 0.047 and more balanced equalized odds (0.108, 0.01), suggesting this model makes more consistent predictions across overtime groups despite its overall limited ability to identify positive cases.\n"
      ]
    },
    {
      "cell_type": "markdown",
      "metadata": {
        "id": "_Bq--e_8_7o2"
      },
      "source": [
        "## Teammate 3"
      ]
    },
    {
      "cell_type": "code",
      "execution_count": 18,
      "metadata": {
        "colab": {
          "base_uri": "https://localhost:8080/"
        },
        "id": "j9DspEoL_-EV",
        "outputId": "4740fcae-5d95-4459-9278-a92f2e335d63"
      },
      "outputs": [
        {
          "output_type": "stream",
          "name": "stdout",
          "text": [
            "accuracy : 0.88\n",
            "f1_score : 0.5\n",
            "precision : 0.72\n",
            "recall : 0.38\n",
            "group_metrics : {0: {'accuracy': 0.93, 'f1_score': 0.35, 'precision': 0.67, 'recall': 0.24}, 1: {'accuracy': 0.72, 'f1_score': 0.57, 'precision': 0.74, 'recall': 0.47}}\n",
            "demographic_parity : 0.222\n",
            "equalized_odds : (0.231, 0.1)\n"
          ]
        }
      ],
      "source": [
        "model = LogisticRegression()\n",
        "model.fit(X_train, y_train)\n",
        "\n",
        "y_pred = model.predict(X_test)\n",
        "\n",
        "results = evaluate_model(y_test, y_pred, group_labels_test)\n",
        "for key, values in results.items():\n",
        "  print(key, \":\", values)\n",
        "results['teammate'] = 'Teammate 3'\n",
        "results['experiment_type'] = 'pre-mitigation'\n",
        "results['predictor_model'] = 'Logistic Regression'\n",
        "results['mitigation_strategy'] = 'No Mitigation'\n",
        "all_baseline_results.append(results)"
      ]
    },
    {
      "cell_type": "markdown",
      "metadata": {
        "id": "C06WmZmZJqkE"
      },
      "source": [
        "### Teammate 3's Conclusions\n",
        "\n",
        "1. The Logistic Regression model achieves the highest overall accuracy at 88% with significantly better predictive performance compared to previous models, showing a balanced F1 score of 0.5, strong precision of 0.72, but still limited recall at 0.38.\n",
        "\n",
        "2. Group performance shows a similar pattern where Group 0 has excellent accuracy (93%) with moderate predictive metrics (F1: 0.35), while Group 1 has lower accuracy (72%) but better predictive capability (F1: 0.57), with both groups having similar precision but Group 1 demonstrating nearly double the recall rate.\n",
        "\n",
        "3. The fairness metrics indicate increased disparity with demographic parity at 0.222 and equalized odds at (0.231, 0.1), suggesting that while this model performs better overall, it makes less consistent predictions across overtime groups than the Random Forest model.\n"
      ]
    },
    {
      "cell_type": "markdown",
      "metadata": {
        "id": "DXm38f8ZABN3"
      },
      "source": [
        "## Teammate 4"
      ]
    },
    {
      "cell_type": "code",
      "execution_count": 19,
      "metadata": {
        "colab": {
          "base_uri": "https://localhost:8080/"
        },
        "id": "g-GVw7gOADZx",
        "outputId": "215e27e7-9908-4597-d8f4-551dc3e38304"
      },
      "outputs": [
        {
          "output_type": "stream",
          "name": "stdout",
          "text": [
            "accuracy : 0.88\n",
            "f1_score : 0.45\n",
            "precision : 0.93\n",
            "recall : 0.3\n",
            "group_metrics : {0: {'accuracy': 0.94, 'f1_score': 0.36, 'precision': 0.8, 'recall': 0.24}, 1: {'accuracy': 0.74, 'f1_score': 0.5, 'precision': 1.0, 'recall': 0.33}}\n",
            "demographic_parity : 0.109\n",
            "equalized_odds : (0.098, 0.0)\n"
          ]
        }
      ],
      "source": [
        "model = SVC(kernel='linear', random_state=42)\n",
        "model.fit(X_train, y_train)\n",
        "\n",
        "y_pred = model.predict(X_test)\n",
        "\n",
        "results = evaluate_model(y_test, y_pred, group_labels_test)\n",
        "for key, values in results.items():\n",
        "  print(key, \":\", values)\n",
        "results['teammate'] = 'Teammate 4'\n",
        "results['experiment_type'] = 'pre-mitigation'\n",
        "results['predictor_model'] = 'SVM'\n",
        "results['mitigation_strategy'] = 'No Mitigation'\n",
        "all_baseline_results.append(results)"
      ]
    },
    {
      "cell_type": "markdown",
      "metadata": {
        "id": "YsdOFh5mJtg_"
      },
      "source": [
        "### Teammate 4's Conclusions\n",
        "\n",
        "1. The SVM model maintains the high overall accuracy of 88% seen in Logistic Regression but shows a slight decrease in F1 score to 0.45, though it achieves exceptional precision of 0.93 at the cost of lower recall at 0.3, indicating it makes fewer but more accurate positive predictions.\n",
        "\n",
        "2. The group performance displays the familiar pattern with Group 0 showing very high accuracy (94%) but moderate predictive capability (F1: 0.36), while Group 1 has lower accuracy (74%) but better predictive metrics (F1: 0.5), with Group 1 achieving perfect precision of 1.0 meaning every positive prediction it makes is correct.\n",
        "\n",
        "3. The fairness metrics show moderate improvement over Logistic Regression with demographic parity at 0.109 and equalized odds at (0.098, 0.0), suggesting more balanced prediction rates across overtime groups, with the zero value in equalized odds indicating no false positive disparity between groups."
      ]
    },
    {
      "cell_type": "markdown",
      "metadata": {
        "id": "y4LK5WRD7LvV"
      },
      "source": [
        "# Conclusions\n",
        "\n",
        "\n",
        "1. **Overall Performance**:  \n",
        "   - All models achieve reasonable accuracy (80-88%) but struggle with balancing predictive performance and fairness across overtime groups. Group 0 consistently shows higher accuracy but poorer predictive metrics compared to Group 1, indicating inherent differences in prediction challenges between groups.\n",
        "\n",
        "2. **Best Performing Model**:  \n",
        "   - Logistic Regression delivers the strongest overall performance with high accuracy (88%), balanced F1 score (0.5), and strong precision (0.72). It demonstrates better predictive capability across both groups despite showing higher demographic disparity.\n",
        "\n",
        "3. **Worst Performing Model**:  \n",
        "   - Random Forest has the weakest overall performance despite its good accuracy (84%). It achieves the lowest F1 score (0.2) and extremely poor recall (0.13), indicating it fails to identify most positive cases.\n",
        "\n",
        "4. **Fairness Across Models**:  \n",
        "   - SVM demonstrates the best balance of performance and fairness with moderate demographic parity and perfect precision for Group 1. Random Forest shows the most balanced prediction rates but at the cost of predictive power, while Logistic Regression exhibits the highest group disparities.\n",
        "\n",
        "5. **Conclusion:**\n",
        "  - Based on the analysis of all models, Logistic Regression is the best overall model. It achieves the highest accuracy (88%) combined with a strong F1 score (0.5) and good precision (0.72). While it shows higher demographic disparity than some other models, its superior predictive performance across both groups makes it the most reliable choice for this classification task."
      ]
    },
    {
      "cell_type": "markdown",
      "metadata": {
        "id": "-Lq5X0Xb5eWA"
      },
      "source": [
        "# Mitigating Bias (INDIVIDUAL CONTRIBUTION)\n",
        "\n"
      ]
    },
    {
      "cell_type": "code",
      "source": [
        "! pip install aif360"
      ],
      "metadata": {
        "colab": {
          "base_uri": "https://localhost:8080/"
        },
        "id": "UiRY1KFl2-lC",
        "outputId": "dc8a917b-12b4-491d-95f6-3a8d7739af09"
      },
      "execution_count": 20,
      "outputs": [
        {
          "output_type": "stream",
          "name": "stdout",
          "text": [
            "Collecting aif360\n",
            "  Downloading aif360-0.6.1-py3-none-any.whl.metadata (5.0 kB)\n",
            "Requirement already satisfied: numpy>=1.16 in /usr/local/lib/python3.11/dist-packages (from aif360) (1.26.4)\n",
            "Requirement already satisfied: scipy>=1.2.0 in /usr/local/lib/python3.11/dist-packages (from aif360) (1.14.1)\n",
            "Requirement already satisfied: pandas>=0.24.0 in /usr/local/lib/python3.11/dist-packages (from aif360) (2.2.2)\n",
            "Requirement already satisfied: scikit-learn>=1.0 in /usr/local/lib/python3.11/dist-packages (from aif360) (1.6.1)\n",
            "Requirement already satisfied: matplotlib in /usr/local/lib/python3.11/dist-packages (from aif360) (3.10.0)\n",
            "Requirement already satisfied: python-dateutil>=2.8.2 in /usr/local/lib/python3.11/dist-packages (from pandas>=0.24.0->aif360) (2.8.2)\n",
            "Requirement already satisfied: pytz>=2020.1 in /usr/local/lib/python3.11/dist-packages (from pandas>=0.24.0->aif360) (2025.1)\n",
            "Requirement already satisfied: tzdata>=2022.7 in /usr/local/lib/python3.11/dist-packages (from pandas>=0.24.0->aif360) (2025.1)\n",
            "Requirement already satisfied: joblib>=1.2.0 in /usr/local/lib/python3.11/dist-packages (from scikit-learn>=1.0->aif360) (1.4.2)\n",
            "Requirement already satisfied: threadpoolctl>=3.1.0 in /usr/local/lib/python3.11/dist-packages (from scikit-learn>=1.0->aif360) (3.5.0)\n",
            "Requirement already satisfied: contourpy>=1.0.1 in /usr/local/lib/python3.11/dist-packages (from matplotlib->aif360) (1.3.1)\n",
            "Requirement already satisfied: cycler>=0.10 in /usr/local/lib/python3.11/dist-packages (from matplotlib->aif360) (0.12.1)\n",
            "Requirement already satisfied: fonttools>=4.22.0 in /usr/local/lib/python3.11/dist-packages (from matplotlib->aif360) (4.56.0)\n",
            "Requirement already satisfied: kiwisolver>=1.3.1 in /usr/local/lib/python3.11/dist-packages (from matplotlib->aif360) (1.4.8)\n",
            "Requirement already satisfied: packaging>=20.0 in /usr/local/lib/python3.11/dist-packages (from matplotlib->aif360) (24.2)\n",
            "Requirement already satisfied: pillow>=8 in /usr/local/lib/python3.11/dist-packages (from matplotlib->aif360) (11.1.0)\n",
            "Requirement already satisfied: pyparsing>=2.3.1 in /usr/local/lib/python3.11/dist-packages (from matplotlib->aif360) (3.2.1)\n",
            "Requirement already satisfied: six>=1.5 in /usr/local/lib/python3.11/dist-packages (from python-dateutil>=2.8.2->pandas>=0.24.0->aif360) (1.17.0)\n",
            "Downloading aif360-0.6.1-py3-none-any.whl (259 kB)\n",
            "\u001b[2K   \u001b[90m━━━━━━━━━━━━━━━━━━━━━━━━━━━━━━━━━━━━━━━━\u001b[0m \u001b[32m259.7/259.7 kB\u001b[0m \u001b[31m5.6 MB/s\u001b[0m eta \u001b[36m0:00:00\u001b[0m\n",
            "\u001b[?25hInstalling collected packages: aif360\n",
            "Successfully installed aif360-0.6.1\n"
          ]
        }
      ]
    },
    {
      "cell_type": "code",
      "source": [
        "from imblearn.over_sampling import SMOTE\n",
        "from aif360.algorithms.preprocessing import Reweighing\n",
        "from aif360.datasets import BinaryLabelDataset\n",
        "from aif360.algorithms.inprocessing import AdversarialDebiasing\n",
        "from aif360.algorithms.postprocessing import EqOddsPostprocessing\n",
        "from sklearn.calibration import CalibratedClassifierCV\n",
        "\n",
        "import tensorflow as tf\n",
        "tf.compat.v1.disable_eager_execution()\n",
        "tf.compat.v1.reset_default_graph()"
      ],
      "metadata": {
        "id": "9CaVMcIUKw70",
        "colab": {
          "base_uri": "https://localhost:8080/"
        },
        "outputId": "fd9eeb33-68d2-4d5b-db81-240bcbc39f84"
      },
      "execution_count": 21,
      "outputs": [
        {
          "output_type": "stream",
          "name": "stderr",
          "text": [
            "WARNING:root:No module named 'fairlearn': ExponentiatedGradientReduction will be unavailable. To install, run:\n",
            "pip install 'aif360[Reductions]'\n",
            "WARNING:root:No module named 'fairlearn': GridSearchReduction will be unavailable. To install, run:\n",
            "pip install 'aif360[Reductions]'\n",
            "WARNING:root:No module named 'inFairness': SenSeI and SenSR will be unavailable. To install, run:\n",
            "pip install 'aif360[inFairness]'\n",
            "WARNING:root:No module named 'fairlearn': GridSearchReduction will be unavailable. To install, run:\n",
            "pip install 'aif360[Reductions]'\n"
          ]
        }
      ]
    },
    {
      "cell_type": "code",
      "execution_count": 22,
      "metadata": {
        "id": "LwfT5Uv9I0j6"
      },
      "outputs": [],
      "source": [
        "## A place to save all teammates' post-mitigation results\n",
        "all_mitigated_results = [] ## DO NOT EDIT"
      ]
    },
    {
      "cell_type": "markdown",
      "metadata": {
        "id": "jmQrfFvn6E85"
      },
      "source": [
        "## Teammate 1"
      ]
    },
    {
      "cell_type": "code",
      "execution_count": 23,
      "metadata": {
        "id": "CZhAOHFB5lzh"
      },
      "outputs": [],
      "source": [
        "# Apply SMOTE to balance the target variable (Attrition)\n",
        "smote = SMOTE(sampling_strategy='auto', random_state=42)\n",
        "X_resampled, y_resampled = smote.fit_resample(X_train, y_train)"
      ]
    },
    {
      "cell_type": "code",
      "source": [
        "# Create a new DataFrame with the resampled data and group labels\n",
        "resampled_data = pd.DataFrame(X_resampled)\n",
        "resampled_data['Attrition'] = y_resampled\n",
        "\n",
        "# Separate features, target, and group labels\n",
        "X_resampled = resampled_data.drop(columns=['Attrition'])\n",
        "y_resampled = resampled_data['Attrition']\n",
        "\n",
        "group_labels_resampled = resampled_data[sensitive_feature_colname]\n",
        "\n",
        "# Train-test split\n",
        "X_train_res, X_test_res, y_train_res, y_test_res, group_labels_train_res, group_labels_test_res = train_test_split(\n",
        "    X_resampled, y_resampled, group_labels_resampled, test_size=0.2, random_state=42, stratify=y_resampled\n",
        ")"
      ],
      "metadata": {
        "id": "_te-MHYo3REh"
      },
      "execution_count": 24,
      "outputs": []
    },
    {
      "cell_type": "code",
      "source": [
        "# Train the Decision Tree model\n",
        "clf = DecisionTreeClassifier(random_state=42, max_depth=10)\n",
        "clf.fit(X_train_res, y_train_res)\n",
        "\n",
        "# Make predictions\n",
        "y_pred_mitigated = clf.predict(X_test_res)\n",
        "\n",
        "# Evaluate the model\n",
        "results_mitigated = evaluate_model(y_test_res, y_pred_mitigated, group_labels_test_res)\n",
        "\n",
        "# Save results\n",
        "results_mitigated['teammate'] = 'Teammate 1'\n",
        "results_mitigated['experiment_type'] = 'post-mitigation'\n",
        "results_mitigated['predictor_model'] = \"Decision Tree\"\n",
        "results_mitigated['mitigation_strategy'] = \"Pre-processing (SMOTE)\"\n",
        "all_mitigated_results.append(results_mitigated)\n",
        "\n",
        "for key, values in results_mitigated.items():\n",
        "  print(key, \":\", values)"
      ],
      "metadata": {
        "colab": {
          "base_uri": "https://localhost:8080/"
        },
        "id": "A3cucX3r3eOI",
        "outputId": "c3e1ddd4-027b-42f4-ad21-916f7ccc4e59"
      },
      "execution_count": 25,
      "outputs": [
        {
          "output_type": "stream",
          "name": "stdout",
          "text": [
            "accuracy : 0.85\n",
            "f1_score : 0.85\n",
            "precision : 0.83\n",
            "recall : 0.88\n",
            "group_metrics : {0: {'accuracy': 0.85, 'f1_score': 0.84, 'precision': 0.79, 'recall': 0.89}, 1: {'accuracy': 0.85, 'f1_score': 0.88, 'precision': 0.92, 'recall': 0.84}}\n",
            "demographic_parity : 0.074\n",
            "equalized_odds : (0.051, 0.06)\n",
            "teammate : Teammate 1\n",
            "experiment_type : post-mitigation\n",
            "predictor_model : Decision Tree\n",
            "mitigation_strategy : Pre-processing (SMOTE)\n"
          ]
        }
      ]
    },
    {
      "cell_type": "markdown",
      "metadata": {
        "id": "X05x8kjr6KrH"
      },
      "source": [
        "### Teammate 1's Conclusions\n",
        "[Briefly describe findings and conclusions here. Compare post-mitigation results with baseline results for your model. What is the % improvement in performance post-mitigation?  ]\n",
        "\n",
        "1. **Improved Performance**: After applying SMOTE, the model showed a significant performance boost, with accuracy increasing from 0.8 to 0.85. Additionally, the F1-score, precision, and recall all saw substantial improvements, going from 0.33, 0.36, and 0.3 to 0.85, 0.83, and 0.88, respectively.\n",
        "\n",
        "2. **Group Metric Improvement**: Both groups (OverTime = 0 and 1) experienced improvements. The accuracy for both groups increased to 0.85, and their F1-scores improved dramatically, indicating more balanced predictions across the groups.\n",
        "\n",
        "3. **Reduced Bias**: The demographic parity decreased from 0.158 to 0.074, and the equalized odds improved, especially for group 0, where it dropped from 0.375 to 0.051, demonstrating that the model became more fair and unbiased after applying SMOTE.\n",
        "\n",
        "4. **Increased Equity in Predictions**: The equalized odds improved for both groups, with group 1 seeing a slight increase, indicating that SMOTE helped to balance the model’s performance and reduce disparities between groups based on OverTime."
      ]
    },
    {
      "cell_type": "markdown",
      "metadata": {
        "id": "ZLB2ggUCBen_"
      },
      "source": [
        "## Teammate 2"
      ]
    },
    {
      "cell_type": "code",
      "execution_count": 26,
      "metadata": {
        "id": "vtbctHpBBgna",
        "colab": {
          "base_uri": "https://localhost:8080/"
        },
        "outputId": "bae01840-1af4-43b1-e721-99390c4a6283"
      },
      "outputs": [
        {
          "output_type": "stream",
          "name": "stdout",
          "text": [
            "accuracy : 0.83\n",
            "f1_score : 0.24\n",
            "precision : 0.42\n",
            "recall : 0.17\n",
            "group_metrics : {0: {'accuracy': 0.9, 'f1_score': 0.27, 'precision': 0.31, 'recall': 0.24}, 1: {'accuracy': 0.63, 'f1_score': 0.22, 'precision': 0.67, 'recall': 0.13}}\n",
            "demographic_parity : 0.019\n",
            "equalized_odds : (0.102, 0.0)\n",
            "teammate : Teammate 2\n",
            "experiment_type : post-mitigation\n",
            "predictor_model : Random Forest\n",
            "mitigation_strategy : Pre-processing (Reweighing)\n"
          ]
        },
        {
          "output_type": "stream",
          "name": "stderr",
          "text": [
            "/usr/local/lib/python3.11/dist-packages/sklearn/utils/validation.py:2732: UserWarning: X has feature names, but RandomForestClassifier was fitted without feature names\n",
            "  warnings.warn(\n"
          ]
        }
      ],
      "source": [
        "# Combine X_train and y_train into single dataframe\n",
        "y_train_df = pd.DataFrame(y_resampled, index=X_resampled.index, columns=['Attrition'])\n",
        "train_data = pd.concat([X_resampled, y_train_df], axis=1)\n",
        "\n",
        "# Convert the dataset to aif360 format\n",
        "train_dataset = BinaryLabelDataset(\n",
        "    df=train_data,  # Combined DataFrame\n",
        "    label_names=['Attrition'],  # Target variable\n",
        "    protected_attribute_names=[sensitive_feature_colname]  # Sensitive attribute\n",
        ")\n",
        "\n",
        "# Initialize the Reweighing algorithm\n",
        "reweighing = Reweighing(unprivileged_groups=[{sensitive_feature_colname: 0}],\n",
        "                        privileged_groups=[{sensitive_feature_colname: 1}])\n",
        "\n",
        "# Fit and transform the dataset to apply reweighing\n",
        "train_dataset_reweighted = reweighing.fit_transform(train_dataset)\n",
        "\n",
        "# Extract the reweighted dataset\n",
        "X_train_reweighted = train_dataset_reweighted.features\n",
        "y_train_reweighted = train_dataset_reweighted.labels.ravel()\n",
        "sample_weights = train_dataset_reweighted.instance_weights\n",
        "\n",
        "# Train the Random Forest model\n",
        "model = RandomForestClassifier(max_depth=20, random_state=42)\n",
        "model.fit(X_train_reweighted, y_train_reweighted, sample_weight=sample_weights)\n",
        "\n",
        "# Make predictions\n",
        "y_pred_mitigated = model.predict(X_test)\n",
        "\n",
        "# Evaluate the model\n",
        "results_mitigated = evaluate_model(y_test, y_pred_mitigated, group_labels_test)\n",
        "\n",
        "# Save results\n",
        "results_mitigated['teammate'] = 'Teammate 2'\n",
        "results_mitigated['experiment_type'] = 'post-mitigation'\n",
        "results_mitigated['predictor_model'] = \"Random Forest\"\n",
        "results_mitigated['mitigation_strategy'] = \"Pre-processing (Reweighing)\"\n",
        "all_mitigated_results.append(results_mitigated)\n",
        "\n",
        "for key, values in results_mitigated.items():\n",
        "  print(key, \":\", values)"
      ]
    },
    {
      "cell_type": "markdown",
      "metadata": {
        "id": "lmwKk9f2BlaM"
      },
      "source": [
        "### Teammate 2's Conclusions\n",
        "[Briefly describe findings and conclusions here. Compare post-mitigation results with baseline results for your model. What is the % improvement in performance post-mitigation?]\n",
        "\n",
        "1. **Slight Decrease in Overall Performance**: After applying reweighting, the model's accuracy slightly decreased from 0.84 to 0.83. The F1-score, precision, and recall also experienced modest improvements, rising from 0.2, 0.46, and 0.13 to 0.24, 0.42, and 0.17, respectively.\n",
        "\n",
        "2. **Improvement in Group Metrics for Group 0**: Group 0 saw notable improvements, with accuracy remaining at 0.9, but its F1-score, precision, and recall all increased, demonstrating better performance for this group after reweighting.\n",
        "\n",
        "3. **Bias Reduction**: The demographic parity decreased from 0.047 to 0.019, indicating a reduction in bias. Additionally, the equalized odds improved slightly for group 0 (from 0.108 to 0.102) and became zero for group 1, suggesting a more equitable model post-reweighting.\n",
        "\n",
        "4. **Equity in Group 1**: While group 1's performance metrics slightly declined (accuracy dropped from 0.66 to 0.63, F1-score from 0.28 to 0.22), the equalized odds reached zero, showing that the reweighting process effectively reduced disparities between the groups, particularly improving fairness.\n",
        "\n",
        "\n"
      ]
    },
    {
      "cell_type": "markdown",
      "metadata": {
        "id": "ZUpxtxuUCF_I"
      },
      "source": [
        "## Teammate 3"
      ]
    },
    {
      "cell_type": "code",
      "source": [
        "sess = tf.compat.v1.Session()\n",
        "\n",
        "adv_debias_model = AdversarialDebiasing(\n",
        "    privileged_groups=[{sensitive_feature_colname: 1}],\n",
        "    unprivileged_groups=[{sensitive_feature_colname: 0}],\n",
        "    scope_name='debiased_classifier',\n",
        "    sess=sess\n",
        ")\n",
        "adv_debias_model.fit(train_dataset)\n",
        "y_test_df = pd.DataFrame(y_test, index=X_test.index, columns=['Attrition'])\n",
        "test_dataset = BinaryLabelDataset(\n",
        "    df=pd.concat([X_test, y_test_df], axis=1),\n",
        "    label_names=['Attrition'],\n",
        "    protected_attribute_names=[sensitive_feature_colname]\n",
        ")\n",
        "test_dataset_pred = adv_debias_model.predict(test_dataset)\n",
        "\n",
        "# Make predictions on the testing set and store them in y_pred_mitigate\n",
        "# y_pred_mitigated = ... # [INSERT CODE HERE]\n",
        "y_pred_mitigated = test_dataset_pred.labels.ravel()\n",
        "\n",
        "# Evaluate testing set predictions using evaluate_model()\n",
        "results_mitigated = evaluate_model(y_test, y_pred_mitigated, group_labels_test)\n",
        "\n",
        "# Save your results to all_mitigated_results\n",
        "results_mitigated['teammate'] = 'Teammate 3'\n",
        "results_mitigated['experiment_type'] = 'post-mitigation'\n",
        "results_mitigated['predictor_model'] = 'Adversarial Debiasing Classifier'\n",
        "results_mitigated['mitigation_strategy'] = 'In-processing (Fairness Constraints in Loss Function)'\n",
        "\n",
        "all_mitigated_results.append(results_mitigated)\n",
        "\n",
        "for key, values in results_mitigated.items():\n",
        "  print(key, \":\", values)"
      ],
      "metadata": {
        "colab": {
          "base_uri": "https://localhost:8080/"
        },
        "id": "znSBMhryEjMC",
        "outputId": "f9b3a1c1-1c8d-4e58-a787-53a2b036e3a7"
      },
      "execution_count": 27,
      "outputs": [
        {
          "output_type": "stream",
          "name": "stderr",
          "text": [
            "WARNING:tensorflow:From /usr/local/lib/python3.11/dist-packages/tensorflow/python/util/dispatch.py:1260: calling dropout (from tensorflow.python.ops.nn_ops) with keep_prob is deprecated and will be removed in a future version.\n",
            "Instructions for updating:\n",
            "Please use `rate` instead of `keep_prob`. Rate should be set to `rate = 1 - keep_prob`.\n"
          ]
        },
        {
          "output_type": "stream",
          "name": "stdout",
          "text": [
            "epoch 0; iter: 0; batch classifier loss: 1.048249; batch adversarial loss: 0.767775\n",
            "epoch 1; iter: 0; batch classifier loss: 0.687357; batch adversarial loss: 0.798330\n",
            "epoch 2; iter: 0; batch classifier loss: 0.682217; batch adversarial loss: 0.774687\n",
            "epoch 3; iter: 0; batch classifier loss: 0.600277; batch adversarial loss: 0.754086\n",
            "epoch 4; iter: 0; batch classifier loss: 0.523091; batch adversarial loss: 0.744705\n",
            "epoch 5; iter: 0; batch classifier loss: 0.552404; batch adversarial loss: 0.737500\n",
            "epoch 6; iter: 0; batch classifier loss: 0.501855; batch adversarial loss: 0.736221\n",
            "epoch 7; iter: 0; batch classifier loss: 0.467674; batch adversarial loss: 0.724425\n",
            "epoch 8; iter: 0; batch classifier loss: 0.471910; batch adversarial loss: 0.736317\n",
            "epoch 9; iter: 0; batch classifier loss: 0.513173; batch adversarial loss: 0.710150\n",
            "epoch 10; iter: 0; batch classifier loss: 0.444844; batch adversarial loss: 0.692990\n",
            "epoch 11; iter: 0; batch classifier loss: 0.408680; batch adversarial loss: 0.694212\n",
            "epoch 12; iter: 0; batch classifier loss: 0.453659; batch adversarial loss: 0.691574\n",
            "epoch 13; iter: 0; batch classifier loss: 0.417879; batch adversarial loss: 0.683415\n",
            "epoch 14; iter: 0; batch classifier loss: 0.370529; batch adversarial loss: 0.688527\n",
            "epoch 15; iter: 0; batch classifier loss: 0.351425; batch adversarial loss: 0.665034\n",
            "epoch 16; iter: 0; batch classifier loss: 0.367499; batch adversarial loss: 0.665640\n",
            "epoch 17; iter: 0; batch classifier loss: 0.358183; batch adversarial loss: 0.657984\n",
            "epoch 18; iter: 0; batch classifier loss: 0.417426; batch adversarial loss: 0.655594\n",
            "epoch 19; iter: 0; batch classifier loss: 0.352134; batch adversarial loss: 0.660654\n",
            "epoch 20; iter: 0; batch classifier loss: 0.331031; batch adversarial loss: 0.655791\n",
            "epoch 21; iter: 0; batch classifier loss: 0.334311; batch adversarial loss: 0.623006\n",
            "epoch 22; iter: 0; batch classifier loss: 0.315229; batch adversarial loss: 0.642200\n",
            "epoch 23; iter: 0; batch classifier loss: 0.294332; batch adversarial loss: 0.631606\n",
            "epoch 24; iter: 0; batch classifier loss: 0.342152; batch adversarial loss: 0.648054\n",
            "epoch 25; iter: 0; batch classifier loss: 0.323723; batch adversarial loss: 0.629294\n",
            "epoch 26; iter: 0; batch classifier loss: 0.323215; batch adversarial loss: 0.636475\n",
            "epoch 27; iter: 0; batch classifier loss: 0.265868; batch adversarial loss: 0.648554\n",
            "epoch 28; iter: 0; batch classifier loss: 0.284076; batch adversarial loss: 0.622457\n",
            "epoch 29; iter: 0; batch classifier loss: 0.275655; batch adversarial loss: 0.626768\n",
            "epoch 30; iter: 0; batch classifier loss: 0.269123; batch adversarial loss: 0.629086\n",
            "epoch 31; iter: 0; batch classifier loss: 0.314069; batch adversarial loss: 0.615173\n",
            "epoch 32; iter: 0; batch classifier loss: 0.199258; batch adversarial loss: 0.642956\n",
            "epoch 33; iter: 0; batch classifier loss: 0.352811; batch adversarial loss: 0.625406\n",
            "epoch 34; iter: 0; batch classifier loss: 0.258520; batch adversarial loss: 0.614660\n",
            "epoch 35; iter: 0; batch classifier loss: 0.249050; batch adversarial loss: 0.629862\n",
            "epoch 36; iter: 0; batch classifier loss: 0.237318; batch adversarial loss: 0.610554\n",
            "epoch 37; iter: 0; batch classifier loss: 0.207755; batch adversarial loss: 0.617058\n",
            "epoch 38; iter: 0; batch classifier loss: 0.269727; batch adversarial loss: 0.605673\n",
            "epoch 39; iter: 0; batch classifier loss: 0.236698; batch adversarial loss: 0.602060\n",
            "epoch 40; iter: 0; batch classifier loss: 0.176366; batch adversarial loss: 0.632009\n",
            "epoch 41; iter: 0; batch classifier loss: 0.273344; batch adversarial loss: 0.624472\n",
            "epoch 42; iter: 0; batch classifier loss: 0.201046; batch adversarial loss: 0.596564\n",
            "epoch 43; iter: 0; batch classifier loss: 0.239763; batch adversarial loss: 0.605849\n",
            "epoch 44; iter: 0; batch classifier loss: 0.219603; batch adversarial loss: 0.641527\n",
            "epoch 45; iter: 0; batch classifier loss: 0.211680; batch adversarial loss: 0.611293\n",
            "epoch 46; iter: 0; batch classifier loss: 0.159983; batch adversarial loss: 0.607471\n",
            "epoch 47; iter: 0; batch classifier loss: 0.217548; batch adversarial loss: 0.623278\n",
            "epoch 48; iter: 0; batch classifier loss: 0.206967; batch adversarial loss: 0.630320\n",
            "epoch 49; iter: 0; batch classifier loss: 0.193200; batch adversarial loss: 0.582608\n",
            "accuracy : 0.74\n",
            "f1_score : 0.36\n",
            "precision : 0.3\n",
            "recall : 0.45\n",
            "group_metrics : {0: {'accuracy': 0.76, 'f1_score': 0.19, 'precision': 0.13, 'recall': 0.35}, 1: {'accuracy': 0.68, 'f1_score': 0.56, 'precision': 0.62, 'recall': 0.5}}\n",
            "demographic_parity : 0.1\n",
            "equalized_odds : (0.147, 0.01)\n",
            "teammate : Teammate 3\n",
            "experiment_type : post-mitigation\n",
            "predictor_model : Adversarial Debiasing Classifier\n",
            "mitigation_strategy : In-processing (Fairness Constraints in Loss Function)\n"
          ]
        }
      ]
    },
    {
      "cell_type": "markdown",
      "metadata": {
        "id": "0YN7oELoCKmF"
      },
      "source": [
        "### Teammate 3's Conclusions\n",
        "[Briefly describe findings and conclusions here. Compare post-mitigation results with baseline results for your model. What is the % improvement in performance post-mitigation?]\n",
        "\n",
        "1. **Performance Decline After Debiasing**: After applying adversarial debiasing, the model's accuracy decreased from 0.88 to 0.76. The F1-score, precision, and recall also dropped, from 0.5, 0.72, and 0.38 to 0.38, 0.32, and 0.45, respectively, indicating a trade-off between fairness and overall performance.\n",
        "\n",
        "2. **Group Metric Changes**: For group 0, accuracy decreased from 0.93 to 0.8, and the F1-score, precision, and recall also dropped, indicating reduced performance in this group post-debiasing. Group 1 saw more balanced results with a slight drop in accuracy (from 0.72 to 0.66), but F1-score, precision, and recall improved or remained stable.\n",
        "\n",
        "3. **Bias Reduction**: The demographic parity decreased from 0.222 to 0.163, showing a reduction in bias between groups. Additionally, equalized odds improved for both groups, especially for group 1 (from 0.1 to 0.07), indicating that adversarial debiasing helped in making the model more fair across both groups."
      ]
    },
    {
      "cell_type": "markdown",
      "metadata": {
        "id": "3qNMlhiECMcD"
      },
      "source": [
        "## Teammate 4"
      ]
    },
    {
      "cell_type": "code",
      "execution_count": 28,
      "metadata": {
        "id": "s-JCVhRdCPSw",
        "colab": {
          "base_uri": "https://localhost:8080/"
        },
        "outputId": "c6074883-df20-4d39-b868-c7d02ece12b9"
      },
      "outputs": [
        {
          "output_type": "stream",
          "name": "stdout",
          "text": [
            "accuracy : 0.87\n",
            "f1_score : 0.37\n",
            "precision : 0.92\n",
            "recall : 0.23\n",
            "group_metrics : {0: {'accuracy': 0.94, 'f1_score': 0.36, 'precision': 0.8, 'recall': 0.24}, 1: {'accuracy': 0.7, 'f1_score': 0.38, 'precision': 1.0, 'recall': 0.23}}\n",
            "demographic_parity : 0.069\n",
            "equalized_odds : (0.002, 0.0)\n",
            "teammate : Teammate 4\n",
            "experiment_type : post-mitigation\n",
            "predictor_model : SVM\n",
            "mitigation_strategy : Postprocessing (Equalized Odds)\n"
          ]
        }
      ],
      "source": [
        "# Implement your bias mitigation strategy\n",
        "## If you chose preprocessing, you will train a new version of your predictor model with new/modified inputs.\n",
        "## If you chose inprocessing, you will train a new version of your predictor with modified learning objective (loss function).\n",
        "## If you chose postprocessing, you will implement strategies to modify the predictions (y_pred) of the trained baseline predictor model from the previous milestone without training any new version of the predictor model.\n",
        "\n",
        "# y_test_df = pd.DataFrame(y_test, columns=['Attrition'])\n",
        "y_test_df = pd.DataFrame(y_test, index=X_test.index, columns=['Attrition'])\n",
        "\n",
        "# Create BinaryLabelDataset for test data\n",
        "test_dataset = BinaryLabelDataset(df=pd.concat([X_test, y_test_df], axis=1), label_names=['Attrition'], protected_attribute_names=[sensitive_feature_colname])\n",
        "\n",
        "model = SVC(kernel='linear', random_state=42)\n",
        "model.fit(X_train, y_train)\n",
        "\n",
        "y_pred = model.predict(X_test)  # Make predictions using trained SVM model\n",
        "\n",
        "test_dataset_pred = test_dataset.copy()\n",
        "test_dataset_pred.labels = y_pred.reshape(-1, 1)  # Store predictions\n",
        "\n",
        "eq_odds = EqOddsPostprocessing(\n",
        "    unprivileged_groups=[{sensitive_feature_colname: 0}],\n",
        "    privileged_groups=[{sensitive_feature_colname: 1}]\n",
        ")\n",
        "\n",
        "# Fit and transform predictions\n",
        "eq_odds.fit(test_dataset, test_dataset_pred)  # Fit on original and predicted labels\n",
        "test_dataset_transf = eq_odds.predict(test_dataset_pred)  # Adjust predictions\n",
        "\n",
        "# Make predictions on the testing set and store them in y_pred_mitigate\n",
        "# y_pred_mitigated = ... # [INSERT CODE HERE]\n",
        "y_pred_mitigated = test_dataset_transf.labels.ravel()\n",
        "\n",
        "# Evaluate testing set predictions using evaluate_model()\n",
        "results_mitigated = evaluate_model(y_test, y_pred_mitigated, group_labels_test)\n",
        "\n",
        "# Save your results to all_mitigated_results\n",
        "results_mitigated['teammate'] = 'Teammate 4'\n",
        "results_mitigated['experiment_type'] = 'post-mitigation'\n",
        "results_mitigated['predictor_model'] = 'SVM' #[INSERT MODEL NAME HERE]\n",
        "results_mitigated['mitigation_strategy'] = 'Postprocessing (Equalized Odds)' #[INSERT STRATEGY TYPE HERE: 'preprocessing', 'inprocessing', 'postprocessing']\n",
        "all_mitigated_results.append(results_mitigated)\n",
        "\n",
        "for key, values in results_mitigated.items():\n",
        "  print(key, \":\", values)"
      ]
    },
    {
      "cell_type": "code",
      "source": [
        "# Train a calibrated model for each group\n",
        "svm_calibrated = CalibratedClassifierCV(estimator=model, cv='prefit')  # Using existing trained model\n",
        "svm_calibrated.fit(X_test, y_test)\n",
        "\n",
        "# Make probability-based predictions\n",
        "y_probs = svm_calibrated.predict_proba(X_test)[:, 1]\n",
        "\n",
        "# Compute separate decision thresholds for each group\n",
        "thresholds = {\n",
        "    group: np.percentile(y_probs[group_labels_test == group], 50)  # Example: Median threshold\n",
        "    for group in np.unique(group_labels_test)\n",
        "}\n",
        "\n",
        "# Adjust predictions based on group-specific thresholds\n",
        "y_pred_mitigated = np.array([\n",
        "    1 if prob >= thresholds[group] else 0\n",
        "    for prob, group in zip(y_probs, group_labels_test)\n",
        "])\n",
        "\n",
        "results_mitigated = evaluate_model(y_test, y_pred_mitigated, group_labels_test)\n",
        "results_mitigated['teammate'] = 'Teammate 4'\n",
        "results_mitigated['experiment_type'] = 'post-mitigation'\n",
        "results_mitigated['predictor_model'] = 'SVM'  # Replace with actual model used\n",
        "results_mitigated['mitigation_strategy'] = 'Postprocessing (Calibration by Group)'\n",
        "all_mitigated_results.append(results_mitigated)\n",
        "\n",
        "for key, values in results_mitigated.items():\n",
        "  print(key, \":\", values)"
      ],
      "metadata": {
        "colab": {
          "base_uri": "https://localhost:8080/"
        },
        "id": "vXUB64Ox9ghV",
        "outputId": "a073b4db-5d74-4a33-b602-dca2c3941522"
      },
      "execution_count": 29,
      "outputs": [
        {
          "output_type": "stream",
          "name": "stderr",
          "text": [
            "/usr/local/lib/python3.11/dist-packages/sklearn/calibration.py:333: UserWarning: The `cv='prefit'` option is deprecated in 1.6 and will be removed in 1.8. You can use CalibratedClassifierCV(FrozenEstimator(estimator)) instead.\n",
            "  warnings.warn(\n"
          ]
        },
        {
          "output_type": "stream",
          "name": "stdout",
          "text": [
            "accuracy : 0.56\n",
            "f1_score : 0.33\n",
            "precision : 0.22\n",
            "recall : 0.68\n",
            "group_metrics : {0: {'accuracy': 0.51, 'f1_score': 0.16, 'precision': 0.09, 'recall': 0.59}, 1: {'accuracy': 0.68, 'f1_score': 0.65, 'precision': 0.58, 'recall': 0.73}}\n",
            "demographic_parity : 0.0\n",
            "equalized_odds : (0.145, 0.14)\n",
            "teammate : Teammate 4\n",
            "experiment_type : post-mitigation\n",
            "predictor_model : SVM\n",
            "mitigation_strategy : Postprocessing (Calibration by Group)\n"
          ]
        }
      ]
    },
    {
      "cell_type": "markdown",
      "metadata": {
        "id": "hnJcnOevCSm-"
      },
      "source": [
        "### Teammate 4's Conclusions\n",
        "[Briefly describe findings and conclusions here. Compare post-mitigation results with baseline results for your model. What is the % improvement in performance post-mitigation?]\n",
        "\n",
        "1. **Performance Decline with EqOddsPostprocessing**: After applying EqOddsPostprocessing, the SVM model's accuracy slightly decreased from 0.88 to 0.87, with a decline in F1-score from 0.45 to 0.37. Precision remained similar, but recall dropped from 0.3 to 0.23, indicating a trade-off in performance for fairness improvements.\n",
        "\n",
        "2. **Bias Reduction with EqOddsPostprocessing**: The demographic parity significantly decreased from 0.109 to 0.069, indicating a reduction in bias between groups. Equalized odds improved for group 0, dropping from 0.098 to 0.002, showing better fairness post-mitigation, while group 1's equalized odds remained unchanged at 0.0.\n",
        "\n",
        "3. **Performance Decline with CalibratedClassifierCV**: When using CalibratedClassifierCV, the model's performance dropped more significantly, with accuracy falling to 0.56 and F1-score decreasing to 0.33. Precision dropped to 0.22, while recall increased to 0.68, showing that the model became more sensitive but at the cost of precision.\n",
        "\n",
        "4. **Bias Elimination with CalibratedClassifierCV**: The demographic parity became 0.0, indicating no bias between groups. However, the equalized odds improved marginally for both groups, with group 0's value rising from 0.145 to 0.14 and group 1's value remaining unchanged at 0.14, showing that the model became more equitable, although it did not recover its earlier performance levels.\n"
      ]
    },
    {
      "cell_type": "markdown",
      "metadata": {
        "id": "2xqD0tYD6kdq"
      },
      "source": [
        "# Conclusions\n",
        "_(new in this milestone)_\n"
      ]
    },
    {
      "cell_type": "code",
      "execution_count": 30,
      "metadata": {
        "colab": {
          "base_uri": "https://localhost:8080/",
          "height": 664
        },
        "id": "ZAgZJYf7F70N",
        "outputId": "a08b5afb-f118-46e0-c5ae-24fb016e345e"
      },
      "outputs": [
        {
          "output_type": "execute_result",
          "data": {
            "text/plain": [
              "   accuracy  f1_score  precision  recall  \\\n",
              "0      0.80      0.33       0.36    0.30   \n",
              "1      0.84      0.20       0.46    0.13   \n",
              "2      0.88      0.50       0.72    0.38   \n",
              "3      0.88      0.45       0.93    0.30   \n",
              "0      0.85      0.85       0.83    0.88   \n",
              "1      0.83      0.24       0.42    0.17   \n",
              "2      0.74      0.36       0.30    0.45   \n",
              "3      0.87      0.37       0.92    0.23   \n",
              "4      0.56      0.33       0.22    0.68   \n",
              "\n",
              "                                       group_metrics  demographic_parity  \\\n",
              "0  {0: {'accuracy': 0.84, 'f1_score': 0.05, 'prec...               0.158   \n",
              "1  {0: {'accuracy': 0.9, 'f1_score': 0.08, 'preci...               0.047   \n",
              "2  {0: {'accuracy': 0.93, 'f1_score': 0.35, 'prec...               0.222   \n",
              "3  {0: {'accuracy': 0.94, 'f1_score': 0.36, 'prec...               0.109   \n",
              "0  {0: {'accuracy': 0.85, 'f1_score': 0.84, 'prec...               0.074   \n",
              "1  {0: {'accuracy': 0.9, 'f1_score': 0.27, 'preci...               0.019   \n",
              "2  {0: {'accuracy': 0.76, 'f1_score': 0.19, 'prec...               0.100   \n",
              "3  {0: {'accuracy': 0.94, 'f1_score': 0.36, 'prec...               0.069   \n",
              "4  {0: {'accuracy': 0.51, 'f1_score': 0.16, 'prec...               0.000   \n",
              "\n",
              "  equalized_odds    teammate  experiment_type  \\\n",
              "0  (0.375, 0.04)  Teammate 1   pre-mitigation   \n",
              "1  (0.108, 0.01)  Teammate 2   pre-mitigation   \n",
              "2   (0.231, 0.1)  Teammate 3   pre-mitigation   \n",
              "3   (0.098, 0.0)  Teammate 4   pre-mitigation   \n",
              "0  (0.051, 0.06)  Teammate 1  post-mitigation   \n",
              "1   (0.102, 0.0)  Teammate 2  post-mitigation   \n",
              "2  (0.147, 0.01)  Teammate 3  post-mitigation   \n",
              "3   (0.002, 0.0)  Teammate 4  post-mitigation   \n",
              "4  (0.145, 0.14)  Teammate 4  post-mitigation   \n",
              "\n",
              "                    predictor_model  \\\n",
              "0                     Decision Tree   \n",
              "1                     Random Forest   \n",
              "2               Logistic Regression   \n",
              "3                               SVM   \n",
              "0                     Decision Tree   \n",
              "1                     Random Forest   \n",
              "2  Adversarial Debiasing Classifier   \n",
              "3                               SVM   \n",
              "4                               SVM   \n",
              "\n",
              "                                 mitigation_strategy  \n",
              "0                                      No Mitigation  \n",
              "1                                      No Mitigation  \n",
              "2                                      No Mitigation  \n",
              "3                                      No Mitigation  \n",
              "0                             Pre-processing (SMOTE)  \n",
              "1                        Pre-processing (Reweighing)  \n",
              "2  In-processing (Fairness Constraints in Loss Fu...  \n",
              "3                    Postprocessing (Equalized Odds)  \n",
              "4              Postprocessing (Calibration by Group)  "
            ],
            "text/html": [
              "\n",
              "  <div id=\"df-9655ae13-257e-4d80-9bf7-04cf4fa132ff\" class=\"colab-df-container\">\n",
              "    <div>\n",
              "<style scoped>\n",
              "    .dataframe tbody tr th:only-of-type {\n",
              "        vertical-align: middle;\n",
              "    }\n",
              "\n",
              "    .dataframe tbody tr th {\n",
              "        vertical-align: top;\n",
              "    }\n",
              "\n",
              "    .dataframe thead th {\n",
              "        text-align: right;\n",
              "    }\n",
              "</style>\n",
              "<table border=\"1\" class=\"dataframe\">\n",
              "  <thead>\n",
              "    <tr style=\"text-align: right;\">\n",
              "      <th></th>\n",
              "      <th>accuracy</th>\n",
              "      <th>f1_score</th>\n",
              "      <th>precision</th>\n",
              "      <th>recall</th>\n",
              "      <th>group_metrics</th>\n",
              "      <th>demographic_parity</th>\n",
              "      <th>equalized_odds</th>\n",
              "      <th>teammate</th>\n",
              "      <th>experiment_type</th>\n",
              "      <th>predictor_model</th>\n",
              "      <th>mitigation_strategy</th>\n",
              "    </tr>\n",
              "  </thead>\n",
              "  <tbody>\n",
              "    <tr>\n",
              "      <th>0</th>\n",
              "      <td>0.80</td>\n",
              "      <td>0.33</td>\n",
              "      <td>0.36</td>\n",
              "      <td>0.30</td>\n",
              "      <td>{0: {'accuracy': 0.84, 'f1_score': 0.05, 'prec...</td>\n",
              "      <td>0.158</td>\n",
              "      <td>(0.375, 0.04)</td>\n",
              "      <td>Teammate 1</td>\n",
              "      <td>pre-mitigation</td>\n",
              "      <td>Decision Tree</td>\n",
              "      <td>No Mitigation</td>\n",
              "    </tr>\n",
              "    <tr>\n",
              "      <th>1</th>\n",
              "      <td>0.84</td>\n",
              "      <td>0.20</td>\n",
              "      <td>0.46</td>\n",
              "      <td>0.13</td>\n",
              "      <td>{0: {'accuracy': 0.9, 'f1_score': 0.08, 'preci...</td>\n",
              "      <td>0.047</td>\n",
              "      <td>(0.108, 0.01)</td>\n",
              "      <td>Teammate 2</td>\n",
              "      <td>pre-mitigation</td>\n",
              "      <td>Random Forest</td>\n",
              "      <td>No Mitigation</td>\n",
              "    </tr>\n",
              "    <tr>\n",
              "      <th>2</th>\n",
              "      <td>0.88</td>\n",
              "      <td>0.50</td>\n",
              "      <td>0.72</td>\n",
              "      <td>0.38</td>\n",
              "      <td>{0: {'accuracy': 0.93, 'f1_score': 0.35, 'prec...</td>\n",
              "      <td>0.222</td>\n",
              "      <td>(0.231, 0.1)</td>\n",
              "      <td>Teammate 3</td>\n",
              "      <td>pre-mitigation</td>\n",
              "      <td>Logistic Regression</td>\n",
              "      <td>No Mitigation</td>\n",
              "    </tr>\n",
              "    <tr>\n",
              "      <th>3</th>\n",
              "      <td>0.88</td>\n",
              "      <td>0.45</td>\n",
              "      <td>0.93</td>\n",
              "      <td>0.30</td>\n",
              "      <td>{0: {'accuracy': 0.94, 'f1_score': 0.36, 'prec...</td>\n",
              "      <td>0.109</td>\n",
              "      <td>(0.098, 0.0)</td>\n",
              "      <td>Teammate 4</td>\n",
              "      <td>pre-mitigation</td>\n",
              "      <td>SVM</td>\n",
              "      <td>No Mitigation</td>\n",
              "    </tr>\n",
              "    <tr>\n",
              "      <th>0</th>\n",
              "      <td>0.85</td>\n",
              "      <td>0.85</td>\n",
              "      <td>0.83</td>\n",
              "      <td>0.88</td>\n",
              "      <td>{0: {'accuracy': 0.85, 'f1_score': 0.84, 'prec...</td>\n",
              "      <td>0.074</td>\n",
              "      <td>(0.051, 0.06)</td>\n",
              "      <td>Teammate 1</td>\n",
              "      <td>post-mitigation</td>\n",
              "      <td>Decision Tree</td>\n",
              "      <td>Pre-processing (SMOTE)</td>\n",
              "    </tr>\n",
              "    <tr>\n",
              "      <th>1</th>\n",
              "      <td>0.83</td>\n",
              "      <td>0.24</td>\n",
              "      <td>0.42</td>\n",
              "      <td>0.17</td>\n",
              "      <td>{0: {'accuracy': 0.9, 'f1_score': 0.27, 'preci...</td>\n",
              "      <td>0.019</td>\n",
              "      <td>(0.102, 0.0)</td>\n",
              "      <td>Teammate 2</td>\n",
              "      <td>post-mitigation</td>\n",
              "      <td>Random Forest</td>\n",
              "      <td>Pre-processing (Reweighing)</td>\n",
              "    </tr>\n",
              "    <tr>\n",
              "      <th>2</th>\n",
              "      <td>0.74</td>\n",
              "      <td>0.36</td>\n",
              "      <td>0.30</td>\n",
              "      <td>0.45</td>\n",
              "      <td>{0: {'accuracy': 0.76, 'f1_score': 0.19, 'prec...</td>\n",
              "      <td>0.100</td>\n",
              "      <td>(0.147, 0.01)</td>\n",
              "      <td>Teammate 3</td>\n",
              "      <td>post-mitigation</td>\n",
              "      <td>Adversarial Debiasing Classifier</td>\n",
              "      <td>In-processing (Fairness Constraints in Loss Fu...</td>\n",
              "    </tr>\n",
              "    <tr>\n",
              "      <th>3</th>\n",
              "      <td>0.87</td>\n",
              "      <td>0.37</td>\n",
              "      <td>0.92</td>\n",
              "      <td>0.23</td>\n",
              "      <td>{0: {'accuracy': 0.94, 'f1_score': 0.36, 'prec...</td>\n",
              "      <td>0.069</td>\n",
              "      <td>(0.002, 0.0)</td>\n",
              "      <td>Teammate 4</td>\n",
              "      <td>post-mitigation</td>\n",
              "      <td>SVM</td>\n",
              "      <td>Postprocessing (Equalized Odds)</td>\n",
              "    </tr>\n",
              "    <tr>\n",
              "      <th>4</th>\n",
              "      <td>0.56</td>\n",
              "      <td>0.33</td>\n",
              "      <td>0.22</td>\n",
              "      <td>0.68</td>\n",
              "      <td>{0: {'accuracy': 0.51, 'f1_score': 0.16, 'prec...</td>\n",
              "      <td>0.000</td>\n",
              "      <td>(0.145, 0.14)</td>\n",
              "      <td>Teammate 4</td>\n",
              "      <td>post-mitigation</td>\n",
              "      <td>SVM</td>\n",
              "      <td>Postprocessing (Calibration by Group)</td>\n",
              "    </tr>\n",
              "  </tbody>\n",
              "</table>\n",
              "</div>\n",
              "    <div class=\"colab-df-buttons\">\n",
              "\n",
              "  <div class=\"colab-df-container\">\n",
              "    <button class=\"colab-df-convert\" onclick=\"convertToInteractive('df-9655ae13-257e-4d80-9bf7-04cf4fa132ff')\"\n",
              "            title=\"Convert this dataframe to an interactive table.\"\n",
              "            style=\"display:none;\">\n",
              "\n",
              "  <svg xmlns=\"http://www.w3.org/2000/svg\" height=\"24px\" viewBox=\"0 -960 960 960\">\n",
              "    <path d=\"M120-120v-720h720v720H120Zm60-500h600v-160H180v160Zm220 220h160v-160H400v160Zm0 220h160v-160H400v160ZM180-400h160v-160H180v160Zm440 0h160v-160H620v160ZM180-180h160v-160H180v160Zm440 0h160v-160H620v160Z\"/>\n",
              "  </svg>\n",
              "    </button>\n",
              "\n",
              "  <style>\n",
              "    .colab-df-container {\n",
              "      display:flex;\n",
              "      gap: 12px;\n",
              "    }\n",
              "\n",
              "    .colab-df-convert {\n",
              "      background-color: #E8F0FE;\n",
              "      border: none;\n",
              "      border-radius: 50%;\n",
              "      cursor: pointer;\n",
              "      display: none;\n",
              "      fill: #1967D2;\n",
              "      height: 32px;\n",
              "      padding: 0 0 0 0;\n",
              "      width: 32px;\n",
              "    }\n",
              "\n",
              "    .colab-df-convert:hover {\n",
              "      background-color: #E2EBFA;\n",
              "      box-shadow: 0px 1px 2px rgba(60, 64, 67, 0.3), 0px 1px 3px 1px rgba(60, 64, 67, 0.15);\n",
              "      fill: #174EA6;\n",
              "    }\n",
              "\n",
              "    .colab-df-buttons div {\n",
              "      margin-bottom: 4px;\n",
              "    }\n",
              "\n",
              "    [theme=dark] .colab-df-convert {\n",
              "      background-color: #3B4455;\n",
              "      fill: #D2E3FC;\n",
              "    }\n",
              "\n",
              "    [theme=dark] .colab-df-convert:hover {\n",
              "      background-color: #434B5C;\n",
              "      box-shadow: 0px 1px 3px 1px rgba(0, 0, 0, 0.15);\n",
              "      filter: drop-shadow(0px 1px 2px rgba(0, 0, 0, 0.3));\n",
              "      fill: #FFFFFF;\n",
              "    }\n",
              "  </style>\n",
              "\n",
              "    <script>\n",
              "      const buttonEl =\n",
              "        document.querySelector('#df-9655ae13-257e-4d80-9bf7-04cf4fa132ff button.colab-df-convert');\n",
              "      buttonEl.style.display =\n",
              "        google.colab.kernel.accessAllowed ? 'block' : 'none';\n",
              "\n",
              "      async function convertToInteractive(key) {\n",
              "        const element = document.querySelector('#df-9655ae13-257e-4d80-9bf7-04cf4fa132ff');\n",
              "        const dataTable =\n",
              "          await google.colab.kernel.invokeFunction('convertToInteractive',\n",
              "                                                    [key], {});\n",
              "        if (!dataTable) return;\n",
              "\n",
              "        const docLinkHtml = 'Like what you see? Visit the ' +\n",
              "          '<a target=\"_blank\" href=https://colab.research.google.com/notebooks/data_table.ipynb>data table notebook</a>'\n",
              "          + ' to learn more about interactive tables.';\n",
              "        element.innerHTML = '';\n",
              "        dataTable['output_type'] = 'display_data';\n",
              "        await google.colab.output.renderOutput(dataTable, element);\n",
              "        const docLink = document.createElement('div');\n",
              "        docLink.innerHTML = docLinkHtml;\n",
              "        element.appendChild(docLink);\n",
              "      }\n",
              "    </script>\n",
              "  </div>\n",
              "\n",
              "\n",
              "<div id=\"df-e8445d3f-3179-45ac-bd3d-d9d3ebf38198\">\n",
              "  <button class=\"colab-df-quickchart\" onclick=\"quickchart('df-e8445d3f-3179-45ac-bd3d-d9d3ebf38198')\"\n",
              "            title=\"Suggest charts\"\n",
              "            style=\"display:none;\">\n",
              "\n",
              "<svg xmlns=\"http://www.w3.org/2000/svg\" height=\"24px\"viewBox=\"0 0 24 24\"\n",
              "     width=\"24px\">\n",
              "    <g>\n",
              "        <path d=\"M19 3H5c-1.1 0-2 .9-2 2v14c0 1.1.9 2 2 2h14c1.1 0 2-.9 2-2V5c0-1.1-.9-2-2-2zM9 17H7v-7h2v7zm4 0h-2V7h2v10zm4 0h-2v-4h2v4z\"/>\n",
              "    </g>\n",
              "</svg>\n",
              "  </button>\n",
              "\n",
              "<style>\n",
              "  .colab-df-quickchart {\n",
              "      --bg-color: #E8F0FE;\n",
              "      --fill-color: #1967D2;\n",
              "      --hover-bg-color: #E2EBFA;\n",
              "      --hover-fill-color: #174EA6;\n",
              "      --disabled-fill-color: #AAA;\n",
              "      --disabled-bg-color: #DDD;\n",
              "  }\n",
              "\n",
              "  [theme=dark] .colab-df-quickchart {\n",
              "      --bg-color: #3B4455;\n",
              "      --fill-color: #D2E3FC;\n",
              "      --hover-bg-color: #434B5C;\n",
              "      --hover-fill-color: #FFFFFF;\n",
              "      --disabled-bg-color: #3B4455;\n",
              "      --disabled-fill-color: #666;\n",
              "  }\n",
              "\n",
              "  .colab-df-quickchart {\n",
              "    background-color: var(--bg-color);\n",
              "    border: none;\n",
              "    border-radius: 50%;\n",
              "    cursor: pointer;\n",
              "    display: none;\n",
              "    fill: var(--fill-color);\n",
              "    height: 32px;\n",
              "    padding: 0;\n",
              "    width: 32px;\n",
              "  }\n",
              "\n",
              "  .colab-df-quickchart:hover {\n",
              "    background-color: var(--hover-bg-color);\n",
              "    box-shadow: 0 1px 2px rgba(60, 64, 67, 0.3), 0 1px 3px 1px rgba(60, 64, 67, 0.15);\n",
              "    fill: var(--button-hover-fill-color);\n",
              "  }\n",
              "\n",
              "  .colab-df-quickchart-complete:disabled,\n",
              "  .colab-df-quickchart-complete:disabled:hover {\n",
              "    background-color: var(--disabled-bg-color);\n",
              "    fill: var(--disabled-fill-color);\n",
              "    box-shadow: none;\n",
              "  }\n",
              "\n",
              "  .colab-df-spinner {\n",
              "    border: 2px solid var(--fill-color);\n",
              "    border-color: transparent;\n",
              "    border-bottom-color: var(--fill-color);\n",
              "    animation:\n",
              "      spin 1s steps(1) infinite;\n",
              "  }\n",
              "\n",
              "  @keyframes spin {\n",
              "    0% {\n",
              "      border-color: transparent;\n",
              "      border-bottom-color: var(--fill-color);\n",
              "      border-left-color: var(--fill-color);\n",
              "    }\n",
              "    20% {\n",
              "      border-color: transparent;\n",
              "      border-left-color: var(--fill-color);\n",
              "      border-top-color: var(--fill-color);\n",
              "    }\n",
              "    30% {\n",
              "      border-color: transparent;\n",
              "      border-left-color: var(--fill-color);\n",
              "      border-top-color: var(--fill-color);\n",
              "      border-right-color: var(--fill-color);\n",
              "    }\n",
              "    40% {\n",
              "      border-color: transparent;\n",
              "      border-right-color: var(--fill-color);\n",
              "      border-top-color: var(--fill-color);\n",
              "    }\n",
              "    60% {\n",
              "      border-color: transparent;\n",
              "      border-right-color: var(--fill-color);\n",
              "    }\n",
              "    80% {\n",
              "      border-color: transparent;\n",
              "      border-right-color: var(--fill-color);\n",
              "      border-bottom-color: var(--fill-color);\n",
              "    }\n",
              "    90% {\n",
              "      border-color: transparent;\n",
              "      border-bottom-color: var(--fill-color);\n",
              "    }\n",
              "  }\n",
              "</style>\n",
              "\n",
              "  <script>\n",
              "    async function quickchart(key) {\n",
              "      const quickchartButtonEl =\n",
              "        document.querySelector('#' + key + ' button');\n",
              "      quickchartButtonEl.disabled = true;  // To prevent multiple clicks.\n",
              "      quickchartButtonEl.classList.add('colab-df-spinner');\n",
              "      try {\n",
              "        const charts = await google.colab.kernel.invokeFunction(\n",
              "            'suggestCharts', [key], {});\n",
              "      } catch (error) {\n",
              "        console.error('Error during call to suggestCharts:', error);\n",
              "      }\n",
              "      quickchartButtonEl.classList.remove('colab-df-spinner');\n",
              "      quickchartButtonEl.classList.add('colab-df-quickchart-complete');\n",
              "    }\n",
              "    (() => {\n",
              "      let quickchartButtonEl =\n",
              "        document.querySelector('#df-e8445d3f-3179-45ac-bd3d-d9d3ebf38198 button');\n",
              "      quickchartButtonEl.style.display =\n",
              "        google.colab.kernel.accessAllowed ? 'block' : 'none';\n",
              "    })();\n",
              "  </script>\n",
              "</div>\n",
              "\n",
              "  <div id=\"id_8350eb3a-e5e2-49a2-b4af-44a6f060c37a\">\n",
              "    <style>\n",
              "      .colab-df-generate {\n",
              "        background-color: #E8F0FE;\n",
              "        border: none;\n",
              "        border-radius: 50%;\n",
              "        cursor: pointer;\n",
              "        display: none;\n",
              "        fill: #1967D2;\n",
              "        height: 32px;\n",
              "        padding: 0 0 0 0;\n",
              "        width: 32px;\n",
              "      }\n",
              "\n",
              "      .colab-df-generate:hover {\n",
              "        background-color: #E2EBFA;\n",
              "        box-shadow: 0px 1px 2px rgba(60, 64, 67, 0.3), 0px 1px 3px 1px rgba(60, 64, 67, 0.15);\n",
              "        fill: #174EA6;\n",
              "      }\n",
              "\n",
              "      [theme=dark] .colab-df-generate {\n",
              "        background-color: #3B4455;\n",
              "        fill: #D2E3FC;\n",
              "      }\n",
              "\n",
              "      [theme=dark] .colab-df-generate:hover {\n",
              "        background-color: #434B5C;\n",
              "        box-shadow: 0px 1px 3px 1px rgba(0, 0, 0, 0.15);\n",
              "        filter: drop-shadow(0px 1px 2px rgba(0, 0, 0, 0.3));\n",
              "        fill: #FFFFFF;\n",
              "      }\n",
              "    </style>\n",
              "    <button class=\"colab-df-generate\" onclick=\"generateWithVariable('overall_results')\"\n",
              "            title=\"Generate code using this dataframe.\"\n",
              "            style=\"display:none;\">\n",
              "\n",
              "  <svg xmlns=\"http://www.w3.org/2000/svg\" height=\"24px\"viewBox=\"0 0 24 24\"\n",
              "       width=\"24px\">\n",
              "    <path d=\"M7,19H8.4L18.45,9,17,7.55,7,17.6ZM5,21V16.75L18.45,3.32a2,2,0,0,1,2.83,0l1.4,1.43a1.91,1.91,0,0,1,.58,1.4,1.91,1.91,0,0,1-.58,1.4L9.25,21ZM18.45,9,17,7.55Zm-12,3A5.31,5.31,0,0,0,4.9,8.1,5.31,5.31,0,0,0,1,6.5,5.31,5.31,0,0,0,4.9,4.9,5.31,5.31,0,0,0,6.5,1,5.31,5.31,0,0,0,8.1,4.9,5.31,5.31,0,0,0,12,6.5,5.46,5.46,0,0,0,6.5,12Z\"/>\n",
              "  </svg>\n",
              "    </button>\n",
              "    <script>\n",
              "      (() => {\n",
              "      const buttonEl =\n",
              "        document.querySelector('#id_8350eb3a-e5e2-49a2-b4af-44a6f060c37a button.colab-df-generate');\n",
              "      buttonEl.style.display =\n",
              "        google.colab.kernel.accessAllowed ? 'block' : 'none';\n",
              "\n",
              "      buttonEl.onclick = () => {\n",
              "        google.colab.notebook.generateWithVariable('overall_results');\n",
              "      }\n",
              "      })();\n",
              "    </script>\n",
              "  </div>\n",
              "\n",
              "    </div>\n",
              "  </div>\n"
            ],
            "application/vnd.google.colaboratory.intrinsic+json": {
              "type": "dataframe",
              "variable_name": "overall_results",
              "summary": "{\n  \"name\": \"overall_results\",\n  \"rows\": 9,\n  \"fields\": [\n    {\n      \"column\": \"accuracy\",\n      \"properties\": {\n        \"dtype\": \"number\",\n        \"std\": 0.10223882715376666,\n        \"min\": 0.56,\n        \"max\": 0.88,\n        \"num_unique_values\": 8,\n        \"samples\": [\n          0.84,\n          0.74,\n          0.8\n        ],\n        \"semantic_type\": \"\",\n        \"description\": \"\"\n      }\n    },\n    {\n      \"column\": \"f1_score\",\n      \"properties\": {\n        \"dtype\": \"number\",\n        \"std\": 0.1913112646970899,\n        \"min\": 0.2,\n        \"max\": 0.85,\n        \"num_unique_values\": 8,\n        \"samples\": [\n          0.2,\n          0.24,\n          0.33\n        ],\n        \"semantic_type\": \"\",\n        \"description\": \"\"\n      }\n    },\n    {\n      \"column\": \"precision\",\n      \"properties\": {\n        \"dtype\": \"number\",\n        \"std\": 0.2775337817275584,\n        \"min\": 0.22,\n        \"max\": 0.93,\n        \"num_unique_values\": 9,\n        \"samples\": [\n          0.92,\n          0.46,\n          0.42\n        ],\n        \"semantic_type\": \"\",\n        \"description\": \"\"\n      }\n    },\n    {\n      \"column\": \"recall\",\n      \"properties\": {\n        \"dtype\": \"number\",\n        \"std\": 0.2463962481676844,\n        \"min\": 0.13,\n        \"max\": 0.88,\n        \"num_unique_values\": 8,\n        \"samples\": [\n          0.13,\n          0.45,\n          0.3\n        ],\n        \"semantic_type\": \"\",\n        \"description\": \"\"\n      }\n    },\n    {\n      \"column\": \"group_metrics\",\n      \"properties\": {\n        \"dtype\": \"object\",\n        \"semantic_type\": \"\",\n        \"description\": \"\"\n      }\n    },\n    {\n      \"column\": \"demographic_parity\",\n      \"properties\": {\n        \"dtype\": \"number\",\n        \"std\": 0.06908328307195599,\n        \"min\": 0.0,\n        \"max\": 0.222,\n        \"num_unique_values\": 9,\n        \"samples\": [\n          0.069,\n          0.047,\n          0.019\n        ],\n        \"semantic_type\": \"\",\n        \"description\": \"\"\n      }\n    },\n    {\n      \"column\": \"equalized_odds\",\n      \"properties\": {\n        \"dtype\": \"string\",\n        \"num_unique_values\": 9,\n        \"samples\": [\n          [\n            0.002,\n            0.0\n          ],\n          [\n            0.108,\n            0.01\n          ],\n          [\n            0.102,\n            0.0\n          ]\n        ],\n        \"semantic_type\": \"\",\n        \"description\": \"\"\n      }\n    },\n    {\n      \"column\": \"teammate\",\n      \"properties\": {\n        \"dtype\": \"category\",\n        \"num_unique_values\": 4,\n        \"samples\": [\n          \"Teammate 2\",\n          \"Teammate 4\",\n          \"Teammate 1\"\n        ],\n        \"semantic_type\": \"\",\n        \"description\": \"\"\n      }\n    },\n    {\n      \"column\": \"experiment_type\",\n      \"properties\": {\n        \"dtype\": \"category\",\n        \"num_unique_values\": 2,\n        \"samples\": [\n          \"post-mitigation\",\n          \"pre-mitigation\"\n        ],\n        \"semantic_type\": \"\",\n        \"description\": \"\"\n      }\n    },\n    {\n      \"column\": \"predictor_model\",\n      \"properties\": {\n        \"dtype\": \"string\",\n        \"num_unique_values\": 5,\n        \"samples\": [\n          \"Random Forest\",\n          \"Adversarial Debiasing Classifier\"\n        ],\n        \"semantic_type\": \"\",\n        \"description\": \"\"\n      }\n    },\n    {\n      \"column\": \"mitigation_strategy\",\n      \"properties\": {\n        \"dtype\": \"string\",\n        \"num_unique_values\": 6,\n        \"samples\": [\n          \"No Mitigation\",\n          \"Pre-processing (SMOTE)\"\n        ],\n        \"semantic_type\": \"\",\n        \"description\": \"\"\n      }\n    }\n  ]\n}"
            }
          },
          "metadata": {},
          "execution_count": 30
        }
      ],
      "source": [
        "# Collect all the results in one table.\n",
        "overall_results = pd.concat([pd.DataFrame(all_baseline_results), pd.DataFrame(all_mitigated_results)])\n",
        "overall_results ## Note: The table displayed below in this starter notebook is for your reference, your team's table will be slightly different (e.g. different metrics, no.of sensitive attribute-based groups, actual values, etc.) upon successful completion of this notebook."
      ]
    },
    {
      "cell_type": "markdown",
      "metadata": {
        "id": "ds54O8vGGAEw"
      },
      "source": [
        "[Briefly describe overall findings and conclusions here. Which mitigation strategy resulted in most improvement? Which resulted in the least improvement? Visualize the results with some informative plots. (Hint: Use the `overall_results` table).]\n",
        "\n",
        "### **Overall Findings and Conclusions**:\n",
        "\n",
        "- **Performance Trade-offs**: All mitigation strategies led to some reduction in overall model performance, especially in terms of accuracy and F1-score. However, they contributed to improvements in fairness metrics, with varying degrees of success.\n",
        "\n",
        "- **EqOddsPostprocessing**: This strategy resulted in the least decrease in performance, maintaining an accuracy of 0.87 and modest improvements in fairness. It reduced demographic parity from 0.109 to 0.069 and brought equalized odds close to 0.0 for group 0, indicating a strong improvement in fairness with a minimal loss in performance.\n",
        "\n",
        "- **Adversarial Debiasing**: This strategy led to a moderate decline in performance (accuracy decreased from 0.88 to 0.76), but it improved fairness significantly. It reduced demographic parity from 0.222 to 0.163 and improved equalized odds, especially for group 1.\n",
        "\n",
        "- **CalibratedClassifierCV**: This strategy resulted in the most significant performance drop (accuracy decreased from 0.88 to 0.56), but it eliminated demographic parity completely, achieving a score of 0.0. Equalized odds improved marginally for both groups, but this came at a notable cost to overall model performance.\n",
        "\n",
        "**Mitigation Strategy with Most Improvement**: **EqOddsPostprocessing** resulted in the most balanced improvement, maintaining decent performance while achieving strong fairness metrics.\n",
        "\n",
        "**Mitigation Strategy with Least Improvement**: **CalibratedClassifierCV** resulted in the least improvement, as it led to a substantial performance drop despite eliminating bias and improving fairness slightly."
      ]
    },
    {
      "cell_type": "code",
      "source": [
        "import matplotlib.pyplot as plt\n",
        "import seaborn as sns\n",
        "import pandas as pd\n",
        "\n",
        "# Convert tuple values to separate columns for equalized odds\n",
        "\n",
        "overall_results[\"equalized_odds_tpr\"] = overall_results[\"equalized_odds\"].apply(lambda x: x[0])\n",
        "overall_results[\"equalized_odds_fpr\"] = overall_results[\"equalized_odds\"].apply(lambda x: x[1])\n",
        "# overall_results.drop(columns=[\"equalized_odds\"], inplace=True)\n",
        "\n",
        "# Plot Accuracy Comparison\n",
        "plt.figure(figsize=(10, 5))\n",
        "sns.barplot(data=overall_results, x=\"teammate\", y=\"accuracy\", hue=\"experiment_type\")\n",
        "plt.title(\"Accuracy Before and After Bias Mitigation\")\n",
        "plt.ylabel(\"Accuracy\")\n",
        "plt.xlabel(\"Teammate\")\n",
        "plt.legend(title=\"Experiment Type\")\n",
        "plt.show()\n",
        "\n",
        "# Plot F1 Score Comparison\n",
        "plt.figure(figsize=(10, 5))\n",
        "sns.barplot(data=overall_results, x=\"teammate\", y=\"f1_score\", hue=\"experiment_type\")\n",
        "plt.title(\"F1 Score Before and After Bias Mitigation\")\n",
        "plt.ylabel(\"F1-score\")\n",
        "plt.xlabel(\"Teammate\")\n",
        "plt.legend(title=\"Experiment Type\")\n",
        "plt.show()\n",
        "\n",
        "# Plot Precision Comparison\n",
        "plt.figure(figsize=(10, 5))\n",
        "sns.barplot(data=overall_results, x=\"teammate\", y=\"precision\", hue=\"experiment_type\")\n",
        "plt.title(\"Precision Before and After Bias Mitigation\")\n",
        "plt.ylabel(\"Precision\")\n",
        "plt.xlabel(\"Teammate\")\n",
        "plt.legend(title=\"Experiment Type\")\n",
        "plt.show()\n",
        "\n",
        "# Plot Recall Comparison\n",
        "plt.figure(figsize=(10, 5))\n",
        "sns.barplot(data=overall_results, x=\"teammate\", y=\"recall\", hue=\"experiment_type\")\n",
        "plt.title(\"Recall Before and After Bias Mitigation\")\n",
        "plt.ylabel(\"Recall\")\n",
        "plt.xlabel(\"Teammate\")\n",
        "plt.legend(title=\"Experiment Type\")\n",
        "plt.show()\n",
        "\n",
        "# Plot Demographic Parity Comparison\n",
        "plt.figure(figsize=(10, 5))\n",
        "sns.barplot(data=overall_results, x=\"teammate\", y=\"demographic_parity\", hue=\"experiment_type\")\n",
        "plt.title(\"Demographic Parity Before and After Bias Mitigation\")\n",
        "plt.ylabel(\"Demographic Parity\")\n",
        "plt.xlabel(\"Teammate\")\n",
        "plt.legend(title=\"Experiment Type\")\n",
        "plt.show()\n",
        "\n",
        "# Plot Equalized Odds Comparison (TPR)\n",
        "plt.figure(figsize=(10, 5))\n",
        "sns.barplot(data=overall_results, x=\"teammate\", y=\"equalized_odds_tpr\", hue=\"experiment_type\")\n",
        "plt.title(\"Equalized Odds (TPR) Before and After Bias Mitigation\")\n",
        "plt.ylabel(\"Equalized Odds TPR\")\n",
        "plt.xlabel(\"Teammate\")\n",
        "plt.legend(title=\"Experiment Type\")\n",
        "plt.show()\n",
        "\n",
        "# Plot Equalized Odds Comparison (FPR)\n",
        "plt.figure(figsize=(10, 5))\n",
        "sns.barplot(data=overall_results, x=\"teammate\", y=\"equalized_odds_fpr\", hue=\"experiment_type\")\n",
        "plt.title(\"Equalized Odds (FPR) Before and After Bias Mitigation\")\n",
        "plt.ylabel(\"Equalized Odds FPR\")\n",
        "plt.xlabel(\"Teammate\")\n",
        "plt.legend(title=\"Experiment Type\")\n",
        "plt.show()"
      ],
      "metadata": {
        "colab": {
          "base_uri": "https://localhost:8080/",
          "height": 1000
        },
        "id": "D0sU22mDKuPj",
        "outputId": "89086dcd-4e03-48dc-ddd3-776cbeaf137a"
      },
      "execution_count": 31,
      "outputs": [
        {
          "output_type": "display_data",
          "data": {
            "text/plain": [
              "<Figure size 1000x500 with 1 Axes>"
            ],
            "image/png": "[encoded data removed]"
          },
          "metadata": {}
        },
        {
          "output_type": "display_data",
          "data": {
            "text/plain": [
              "<Figure size 1000x500 with 1 Axes>"
            ],
            "image/png": "[encoded data removed]"
          },
          "metadata": {}
        },
        {
          "output_type": "display_data",
          "data": {
            "text/plain": [
              "<Figure size 1000x500 with 1 Axes>"
            ],
            "image/png": "[encoded data removed]"
          },
          "metadata": {}
        },
        {
          "output_type": "display_data",
          "data": {
            "text/plain": [
              "<Figure size 1000x500 with 1 Axes>"
            ],
            "image/png": "[encoded data removed]"
          },
          "metadata": {}
        },
        {
          "output_type": "display_data",
          "data": {
            "text/plain": [
              "<Figure size 1000x500 with 1 Axes>"
            ],
            "image/png": "[encoded data removed]"
          },
          "metadata": {}
        },
        {
          "output_type": "display_data",
          "data": {
            "text/plain": [
              "<Figure size 1000x500 with 1 Axes>"
            ],
            "image/png": "[encoded data removed]"
          },
          "metadata": {}
        },
        {
          "output_type": "display_data",
          "data": {
            "text/plain": [
              "<Figure size 1000x500 with 1 Axes>"
            ],
            "image/png": "[encoded data removed]"
          },
          "metadata": {}
        }
      ]
    },
    {
      "cell_type": "markdown",
      "metadata": {
        "id": "o-8NLvIOsPL-"
      },
      "source": [
        "# References\n",
        "\n",
        "Teammate 1:\n",
        "- https://scikit-learn.org/stable/modules/generated/sklearn.tree.DecisionTreeClassifier.html\n",
        "- https://imbalanced-learn.org/stable/references/generated/imblearn.over_sampling.SMOTE.html\n",
        "\n",
        "\n",
        "Teammate 2:\n",
        "- https://scikit-learn.org/stable/modules/generated/sklearn.ensemble.RandomForestClassifier.html\n",
        "- https://aif360.readthedocs.io/en/latest/modules/generated/aif360.datasets.BinaryLabelDataset.html\n",
        "- https://aif360.readthedocs.io/en/stable/modules/generated/aif360.algorithms.preprocessing.Reweighing.html\n",
        "\n",
        "Teammate 3:\n",
        "- https://www.geeksforgeeks.org/k-nearest-neighbours/\n",
        "- https://aif360.readthedocs.io/en/stable/modules/generated/aif360.sklearn.inprocessing.AdversarialDebiasing.html\n",
        "- https://aif360.readthedocs.io/en/latest/modules/generated/aif360.datasets.BinaryLabelDataset.html\n",
        "\n",
        "Teammate 4:\n",
        "- https://scikit-learn.org/stable/modules/svm.html\n",
        "- https://aif360.readthedocs.io/en/latest/modules/generated/aif360.datasets.BinaryLabelDataset.html\n",
        "- https://aif360.readthedocs.io/en/stable/modules/generated/aif360.algorithms.postprocessing.EqOddsPostprocessing.html\n",
        "- https://scikit-learn.org/stable/modules/generated/sklearn.calibration.CalibratedClassifierCV.html\n",
        "\n",
        "\n",
        "General:\n",
        "- https://scikit-learn.org/stable/api/sklearn.metrics.html\n",
        "- https://fairlearn.org/main/user_guide/assessment/common_fairness_metrics.html\n",
        "- https://fairlearn.org/main/user_guide/fairness_in_machine_learning.html\n",
        "\n"
      ]
    },
    {
      "cell_type": "markdown",
      "metadata": {
        "id": "CV3LsIXqKAg1"
      },
      "source": [
        "# Disclosures\n",
        "\n",
        "[Disclose use of generative AI and similar tools here.]\n",
        "\n",
        "We used generative AI tools to assist in finding library declarations, troubleshooting errors, and paraphrasing conclusions to improve clarity and conciseness."
      ]
    }
  ],
  "metadata": {
    "colab": {
      "provenance": []
    },
    "kernelspec": {
      "display_name": "Python 3",
      "name": "python3"
    },
    "language_info": {
      "name": "python"
    }
  },
  "nbformat": 4,
  "nbformat_minor": 0
}